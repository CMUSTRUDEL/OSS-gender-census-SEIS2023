{
 "cells": [
  {
   "cell_type": "markdown",
   "metadata": {},
   "source": [
    "# Visualize Results"
   ]
  },
  {
   "cell_type": "code",
   "execution_count": 8,
   "metadata": {},
   "outputs": [],
   "source": [
    "import math\n",
    "import random\n",
    "\n",
    "import numpy as np\n",
    "import pandas as pd\n",
    "import matplotlib as mpl\n",
    "import matplotlib.pyplot as plt\n",
    "from scipy.interpolate import splrep, splev\n",
    "%matplotlib inline"
   ]
  },
  {
   "cell_type": "markdown",
   "metadata": {},
   "source": [
    "## 1. Plot Contributors\n",
    "Input: '/data2/zihe/data/OSS-census/contributor_by_win/*.csv' (copied to './contributor/data/')<br>\n",
    "Output:\n",
    "- All active contributor by gender by window: './contributor/all/'\n",
    "- Core active contributor by gender by window: './contributor/core/'"
   ]
  },
  {
   "cell_type": "code",
   "execution_count": 9,
   "metadata": {},
   "outputs": [],
   "source": [
    "def plot_contributors(lang):\n",
    "    \n",
    "    # Import data\n",
    "    dat = pd.read_csv('/Users/katy/Desktop/oss-census-visualization/contributor/'+lang+'.csv', error_bad_lines=False, warn_bad_lines=False, index_col=False)\n",
    "    max_win = 53\n",
    "    dat = dat[dat['win']<=max_win]\n",
    "    \n",
    "    # Change window to date\n",
    "    wins = dat[\"win\"]\n",
    "    new_wins = []\n",
    "    for win in wins:\n",
    "        time = 3 * win\n",
    "        year = 2008 + math.floor(time/12)\n",
    "        month = time - math.floor(time/12)*12\n",
    "        if not month:\n",
    "            month = 12\n",
    "        if month == 3:\n",
    "            new_wins.append(\"{}\".format(year))\n",
    "        else:\n",
    "            new_wins.append(\"{}-{}\".format(year,month))\n",
    "    wins = new_wins\n",
    "    \n",
    "    # Plot information\n",
    "    fig,ax2 = plt.subplots()\n",
    "    title = lang\n",
    "    if lang == \"C#\":\n",
    "        title = \"C\\#\"\n",
    "    ax2.set_title(\"Active Contributors in \" + r\"$\\bf{\" + title + \"}$\" +\" Ecosystems\", fontsize=18)\n",
    "    ax2.set_xlabel('Time (quarter)', fontsize=16)\n",
    "    # ax.set_ylabel('Number of Contributors (thousand)', fontsize=16, labelpad=5.0)\n",
    "    \n",
    "    # Plot contributor number bar\n",
    "    # female = (dat[\"female_all\"] + dat[\"female_likely_all\"]) / 1000\n",
    "    # male = (dat[\"female_all\"] + dat[\"female_likely_all\"] + dat[\"male_all\"] + dat[\"male_likely_all\"]) / 1000\n",
    "    # unknown = (dat[\"all_all\"]) / 1000\n",
    "    # ax.bar(wins, unknown, label = \"All unknown\", color = \"blanchedalmond\")\n",
    "    # ax.bar(wins, male, label = \"All men\", color = \"#f29d4b\")\n",
    "    # ax.bar(wins, female, label = \"All women\", color = \"#de2d26\")\n",
    "    # plt.legend(loc=(0.02, 0.80),fontsize=12, frameon=False)\n",
    "\n",
    "    # Plot ratio line for female in all contributor\n",
    "    # ax2 = ax.twinx()\n",
    "    male = (dat[\"male_all\"] + dat[\"male_likely_all\"]).replace(0, 1)\n",
    "    ratio = (dat[\"female_all\"] + dat[\"female_likely_all\"]) / (dat[\"female_all\"] + dat[\"female_likely_all\"] + male)\n",
    "    for win in dat[\"win\"]:\n",
    "        win = win - 1\n",
    "        if dat[\"female_all\"][win] + dat[\"female_likely_all\"][win] + male[win] <= 30:\n",
    "            ratio[win] = 0\n",
    "    ratio2 = np.ma.masked_where(((dat[\"win\"] >= 46)&(dat[\"win\"] <= 48)), ratio)\n",
    "    ax2.plot(wins, ratio2, color=\"darkblue\",marker=\"o\", markerfacecolor='white', markeredgecolor='darkblue', markeredgewidth=1, label=\"Among all\")\n",
    "    ax2.set_ylabel('Female Ratio = F/(F+M)', fontsize=16, labelpad=25.0)\n",
    "    last_all = ratio[max_win-1]\n",
    "    \n",
    "    # Plot ratio line for female in core contributor\n",
    "    male = (dat[\"male_core\"] + dat[\"male_likely_core\"]).replace(0, 1)\n",
    "    ratio = (dat[\"female_core\"] + dat[\"female_likely_core\"]) / (dat[\"female_core\"] + dat[\"female_likely_core\"] + male)\n",
    "    for win in dat[\"win\"]:\n",
    "        win = win - 1\n",
    "        if dat[\"female_core\"][win] + dat[\"female_likely_core\"][win] + male[win] <= 30:\n",
    "            ratio[win] = 0\n",
    "    ratio2 = np.ma.masked_where(((dat[\"win\"] >= 46)&(dat[\"win\"] <= 48)), ratio)\n",
    "    ax2.plot(wins, ratio2, color=\"darkblue\",marker=\"s\", markeredgecolor='darkblue', markeredgewidth=1, label=\"Among core\")\n",
    "    ax2.fill_between(wins, 0, 1, where = ((dat[\"win\"] >= 46)&(dat[\"win\"] <= 48)), color='#D3D3D3', alpha=0.5, transform=ax2.get_xaxis_transform())\n",
    "    last_core = ratio[max_win-1]\n",
    "    #plt.figtext(0.1, 0.02,\"* Female ratio gap in the last window is \" + (str(round((last_all-last_core)*100, 2))+\"0\")[0:4] + \"%.\")\n",
    "    \n",
    "    # Set x ticks\n",
    "    # ax.set_xticks(np.arange(min(dat[\"win\"])-1, max(dat[\"win\"])+1, 4))\n",
    "    ax2.set_xticks(np.arange(min(dat[\"win\"])-1, max(dat[\"win\"])+1, 4))\n",
    "    \n",
    "    # Set y ticks\n",
    "    upper = math.ceil(max(dat[\"all_all\"])/60000)*60\n",
    "    # ax.set_yticks(np.arange(0, upper * 7 / 6, upper/6))\n",
    "    # ax.set_ylim(ymin = 0, ymax = upper)\n",
    "    ax2.set_yticks(np.arange(0, 0.12, 0.01))\n",
    "    ax2.set_ylim(ymin = 0, ymax = 0.11)\n",
    "    \n",
    "    # No Frame\n",
    "    # ax.spines['top'].set_visible(False)\n",
    "    ax2.spines['top'].set_visible(False)\n",
    "    # ax.spines['bottom'].set_visible(False)\n",
    "    ax2.spines['bottom'].set_visible(True)\n",
    "    # ax.spines['left'].set_visible(False)\n",
    "    ax2.spines['left'].set_visible(True)\n",
    "    # ax.spines['right'].set_visible(False)\n",
    "    ax2.spines['right'].set_visible(False)\n",
    "    # ax.grid(axis='y')\n",
    "    # ax2.grid(axis='y')\n",
    "    \n",
    "    # Set Size\n",
    "    plt.legend(loc=(0.05, 0.85),fontsize=12, frameon=True,edgecolor=\"white\")\n",
    "    plt.rcParams[\"figure.figsize\"] = (10,7)\n",
    "    \n",
    "    # Save figure\n",
    "    plt.savefig(\"/Users/katy/Desktop/oss-census-visualization/plots/contributor_line/\"+lang+\"_contributor.pdf\", facecolor='white', transparent=False)\n",
    "    plt.savefig(\"/Users/katy/Desktop/oss-census-visualization/plots/contributor_line/\"+lang+\"_contributor.png\", facecolor='white', transparent=False)\n",
    "    #plt.show()\n",
    "    plt.clf()\n",
    "\n",
    "#plot_contributors(\"HTML\")"
   ]
  },
  {
   "cell_type": "code",
   "execution_count": 6,
   "metadata": {},
   "outputs": [
    {
     "name": "stderr",
     "output_type": "stream",
     "text": [
      "/var/folders/p2/fzp_yms956z0g9f_fd8jnx2c0000gn/T/ipykernel_6743/739849329.py:4: FutureWarning: The error_bad_lines argument has been deprecated and will be removed in a future version. Use on_bad_lines in the future.\n",
      "\n",
      "\n",
      "  dat = pd.read_csv('/Users/katy/Desktop/oss-census-visualization/contributor/'+lang+'.csv', error_bad_lines=False, warn_bad_lines=False, index_col=False)\n",
      "/var/folders/p2/fzp_yms956z0g9f_fd8jnx2c0000gn/T/ipykernel_6743/739849329.py:4: FutureWarning: The warn_bad_lines argument has been deprecated and will be removed in a future version. Use on_bad_lines in the future.\n",
      "\n",
      "\n",
      "  dat = pd.read_csv('/Users/katy/Desktop/oss-census-visualization/contributor/'+lang+'.csv', error_bad_lines=False, warn_bad_lines=False, index_col=False)\n",
      "/var/folders/p2/fzp_yms956z0g9f_fd8jnx2c0000gn/T/ipykernel_6743/739849329.py:4: FutureWarning: The error_bad_lines argument has been deprecated and will be removed in a future version. Use on_bad_lines in the future.\n",
      "\n",
      "\n",
      "  dat = pd.read_csv('/Users/katy/Desktop/oss-census-visualization/contributor/'+lang+'.csv', error_bad_lines=False, warn_bad_lines=False, index_col=False)\n",
      "/var/folders/p2/fzp_yms956z0g9f_fd8jnx2c0000gn/T/ipykernel_6743/739849329.py:4: FutureWarning: The warn_bad_lines argument has been deprecated and will be removed in a future version. Use on_bad_lines in the future.\n",
      "\n",
      "\n",
      "  dat = pd.read_csv('/Users/katy/Desktop/oss-census-visualization/contributor/'+lang+'.csv', error_bad_lines=False, warn_bad_lines=False, index_col=False)\n",
      "/var/folders/p2/fzp_yms956z0g9f_fd8jnx2c0000gn/T/ipykernel_6743/739849329.py:4: FutureWarning: The error_bad_lines argument has been deprecated and will be removed in a future version. Use on_bad_lines in the future.\n",
      "\n",
      "\n",
      "  dat = pd.read_csv('/Users/katy/Desktop/oss-census-visualization/contributor/'+lang+'.csv', error_bad_lines=False, warn_bad_lines=False, index_col=False)\n",
      "/var/folders/p2/fzp_yms956z0g9f_fd8jnx2c0000gn/T/ipykernel_6743/739849329.py:4: FutureWarning: The warn_bad_lines argument has been deprecated and will be removed in a future version. Use on_bad_lines in the future.\n",
      "\n",
      "\n",
      "  dat = pd.read_csv('/Users/katy/Desktop/oss-census-visualization/contributor/'+lang+'.csv', error_bad_lines=False, warn_bad_lines=False, index_col=False)\n",
      "/var/folders/p2/fzp_yms956z0g9f_fd8jnx2c0000gn/T/ipykernel_6743/739849329.py:4: FutureWarning: The error_bad_lines argument has been deprecated and will be removed in a future version. Use on_bad_lines in the future.\n",
      "\n",
      "\n",
      "  dat = pd.read_csv('/Users/katy/Desktop/oss-census-visualization/contributor/'+lang+'.csv', error_bad_lines=False, warn_bad_lines=False, index_col=False)\n",
      "/var/folders/p2/fzp_yms956z0g9f_fd8jnx2c0000gn/T/ipykernel_6743/739849329.py:4: FutureWarning: The warn_bad_lines argument has been deprecated and will be removed in a future version. Use on_bad_lines in the future.\n",
      "\n",
      "\n",
      "  dat = pd.read_csv('/Users/katy/Desktop/oss-census-visualization/contributor/'+lang+'.csv', error_bad_lines=False, warn_bad_lines=False, index_col=False)\n",
      "/var/folders/p2/fzp_yms956z0g9f_fd8jnx2c0000gn/T/ipykernel_6743/739849329.py:4: FutureWarning: The error_bad_lines argument has been deprecated and will be removed in a future version. Use on_bad_lines in the future.\n",
      "\n",
      "\n",
      "  dat = pd.read_csv('/Users/katy/Desktop/oss-census-visualization/contributor/'+lang+'.csv', error_bad_lines=False, warn_bad_lines=False, index_col=False)\n",
      "/var/folders/p2/fzp_yms956z0g9f_fd8jnx2c0000gn/T/ipykernel_6743/739849329.py:4: FutureWarning: The warn_bad_lines argument has been deprecated and will be removed in a future version. Use on_bad_lines in the future.\n",
      "\n",
      "\n",
      "  dat = pd.read_csv('/Users/katy/Desktop/oss-census-visualization/contributor/'+lang+'.csv', error_bad_lines=False, warn_bad_lines=False, index_col=False)\n",
      "/var/folders/p2/fzp_yms956z0g9f_fd8jnx2c0000gn/T/ipykernel_6743/739849329.py:4: FutureWarning: The error_bad_lines argument has been deprecated and will be removed in a future version. Use on_bad_lines in the future.\n",
      "\n",
      "\n",
      "  dat = pd.read_csv('/Users/katy/Desktop/oss-census-visualization/contributor/'+lang+'.csv', error_bad_lines=False, warn_bad_lines=False, index_col=False)\n",
      "/var/folders/p2/fzp_yms956z0g9f_fd8jnx2c0000gn/T/ipykernel_6743/739849329.py:4: FutureWarning: The warn_bad_lines argument has been deprecated and will be removed in a future version. Use on_bad_lines in the future.\n",
      "\n",
      "\n",
      "  dat = pd.read_csv('/Users/katy/Desktop/oss-census-visualization/contributor/'+lang+'.csv', error_bad_lines=False, warn_bad_lines=False, index_col=False)\n",
      "/var/folders/p2/fzp_yms956z0g9f_fd8jnx2c0000gn/T/ipykernel_6743/739849329.py:4: FutureWarning: The error_bad_lines argument has been deprecated and will be removed in a future version. Use on_bad_lines in the future.\n",
      "\n",
      "\n",
      "  dat = pd.read_csv('/Users/katy/Desktop/oss-census-visualization/contributor/'+lang+'.csv', error_bad_lines=False, warn_bad_lines=False, index_col=False)\n",
      "/var/folders/p2/fzp_yms956z0g9f_fd8jnx2c0000gn/T/ipykernel_6743/739849329.py:4: FutureWarning: The warn_bad_lines argument has been deprecated and will be removed in a future version. Use on_bad_lines in the future.\n",
      "\n",
      "\n",
      "  dat = pd.read_csv('/Users/katy/Desktop/oss-census-visualization/contributor/'+lang+'.csv', error_bad_lines=False, warn_bad_lines=False, index_col=False)\n",
      "/var/folders/p2/fzp_yms956z0g9f_fd8jnx2c0000gn/T/ipykernel_6743/739849329.py:4: FutureWarning: The error_bad_lines argument has been deprecated and will be removed in a future version. Use on_bad_lines in the future.\n",
      "\n",
      "\n",
      "  dat = pd.read_csv('/Users/katy/Desktop/oss-census-visualization/contributor/'+lang+'.csv', error_bad_lines=False, warn_bad_lines=False, index_col=False)\n",
      "/var/folders/p2/fzp_yms956z0g9f_fd8jnx2c0000gn/T/ipykernel_6743/739849329.py:4: FutureWarning: The warn_bad_lines argument has been deprecated and will be removed in a future version. Use on_bad_lines in the future.\n",
      "\n",
      "\n",
      "  dat = pd.read_csv('/Users/katy/Desktop/oss-census-visualization/contributor/'+lang+'.csv', error_bad_lines=False, warn_bad_lines=False, index_col=False)\n",
      "/var/folders/p2/fzp_yms956z0g9f_fd8jnx2c0000gn/T/ipykernel_6743/739849329.py:4: FutureWarning: The error_bad_lines argument has been deprecated and will be removed in a future version. Use on_bad_lines in the future.\n",
      "\n",
      "\n",
      "  dat = pd.read_csv('/Users/katy/Desktop/oss-census-visualization/contributor/'+lang+'.csv', error_bad_lines=False, warn_bad_lines=False, index_col=False)\n",
      "/var/folders/p2/fzp_yms956z0g9f_fd8jnx2c0000gn/T/ipykernel_6743/739849329.py:4: FutureWarning: The warn_bad_lines argument has been deprecated and will be removed in a future version. Use on_bad_lines in the future.\n",
      "\n",
      "\n",
      "  dat = pd.read_csv('/Users/katy/Desktop/oss-census-visualization/contributor/'+lang+'.csv', error_bad_lines=False, warn_bad_lines=False, index_col=False)\n",
      "/var/folders/p2/fzp_yms956z0g9f_fd8jnx2c0000gn/T/ipykernel_6743/739849329.py:4: FutureWarning: The error_bad_lines argument has been deprecated and will be removed in a future version. Use on_bad_lines in the future.\n",
      "\n",
      "\n",
      "  dat = pd.read_csv('/Users/katy/Desktop/oss-census-visualization/contributor/'+lang+'.csv', error_bad_lines=False, warn_bad_lines=False, index_col=False)\n",
      "/var/folders/p2/fzp_yms956z0g9f_fd8jnx2c0000gn/T/ipykernel_6743/739849329.py:4: FutureWarning: The warn_bad_lines argument has been deprecated and will be removed in a future version. Use on_bad_lines in the future.\n",
      "\n",
      "\n",
      "  dat = pd.read_csv('/Users/katy/Desktop/oss-census-visualization/contributor/'+lang+'.csv', error_bad_lines=False, warn_bad_lines=False, index_col=False)\n",
      "/var/folders/p2/fzp_yms956z0g9f_fd8jnx2c0000gn/T/ipykernel_6743/739849329.py:4: FutureWarning: The error_bad_lines argument has been deprecated and will be removed in a future version. Use on_bad_lines in the future.\n",
      "\n",
      "\n",
      "  dat = pd.read_csv('/Users/katy/Desktop/oss-census-visualization/contributor/'+lang+'.csv', error_bad_lines=False, warn_bad_lines=False, index_col=False)\n",
      "/var/folders/p2/fzp_yms956z0g9f_fd8jnx2c0000gn/T/ipykernel_6743/739849329.py:4: FutureWarning: The warn_bad_lines argument has been deprecated and will be removed in a future version. Use on_bad_lines in the future.\n",
      "\n",
      "\n",
      "  dat = pd.read_csv('/Users/katy/Desktop/oss-census-visualization/contributor/'+lang+'.csv', error_bad_lines=False, warn_bad_lines=False, index_col=False)\n",
      "/var/folders/p2/fzp_yms956z0g9f_fd8jnx2c0000gn/T/ipykernel_6743/739849329.py:4: FutureWarning: The error_bad_lines argument has been deprecated and will be removed in a future version. Use on_bad_lines in the future.\n",
      "\n",
      "\n",
      "  dat = pd.read_csv('/Users/katy/Desktop/oss-census-visualization/contributor/'+lang+'.csv', error_bad_lines=False, warn_bad_lines=False, index_col=False)\n",
      "/var/folders/p2/fzp_yms956z0g9f_fd8jnx2c0000gn/T/ipykernel_6743/739849329.py:4: FutureWarning: The warn_bad_lines argument has been deprecated and will be removed in a future version. Use on_bad_lines in the future.\n",
      "\n",
      "\n",
      "  dat = pd.read_csv('/Users/katy/Desktop/oss-census-visualization/contributor/'+lang+'.csv', error_bad_lines=False, warn_bad_lines=False, index_col=False)\n",
      "/var/folders/p2/fzp_yms956z0g9f_fd8jnx2c0000gn/T/ipykernel_6743/739849329.py:4: FutureWarning: The error_bad_lines argument has been deprecated and will be removed in a future version. Use on_bad_lines in the future.\n",
      "\n",
      "\n",
      "  dat = pd.read_csv('/Users/katy/Desktop/oss-census-visualization/contributor/'+lang+'.csv', error_bad_lines=False, warn_bad_lines=False, index_col=False)\n",
      "/var/folders/p2/fzp_yms956z0g9f_fd8jnx2c0000gn/T/ipykernel_6743/739849329.py:4: FutureWarning: The warn_bad_lines argument has been deprecated and will be removed in a future version. Use on_bad_lines in the future.\n",
      "\n",
      "\n",
      "  dat = pd.read_csv('/Users/katy/Desktop/oss-census-visualization/contributor/'+lang+'.csv', error_bad_lines=False, warn_bad_lines=False, index_col=False)\n",
      "/var/folders/p2/fzp_yms956z0g9f_fd8jnx2c0000gn/T/ipykernel_6743/739849329.py:4: FutureWarning: The error_bad_lines argument has been deprecated and will be removed in a future version. Use on_bad_lines in the future.\n",
      "\n",
      "\n",
      "  dat = pd.read_csv('/Users/katy/Desktop/oss-census-visualization/contributor/'+lang+'.csv', error_bad_lines=False, warn_bad_lines=False, index_col=False)\n",
      "/var/folders/p2/fzp_yms956z0g9f_fd8jnx2c0000gn/T/ipykernel_6743/739849329.py:4: FutureWarning: The warn_bad_lines argument has been deprecated and will be removed in a future version. Use on_bad_lines in the future.\n",
      "\n",
      "\n",
      "  dat = pd.read_csv('/Users/katy/Desktop/oss-census-visualization/contributor/'+lang+'.csv', error_bad_lines=False, warn_bad_lines=False, index_col=False)\n",
      "/var/folders/p2/fzp_yms956z0g9f_fd8jnx2c0000gn/T/ipykernel_6743/739849329.py:4: FutureWarning: The error_bad_lines argument has been deprecated and will be removed in a future version. Use on_bad_lines in the future.\n",
      "\n",
      "\n",
      "  dat = pd.read_csv('/Users/katy/Desktop/oss-census-visualization/contributor/'+lang+'.csv', error_bad_lines=False, warn_bad_lines=False, index_col=False)\n",
      "/var/folders/p2/fzp_yms956z0g9f_fd8jnx2c0000gn/T/ipykernel_6743/739849329.py:4: FutureWarning: The warn_bad_lines argument has been deprecated and will be removed in a future version. Use on_bad_lines in the future.\n",
      "\n",
      "\n",
      "  dat = pd.read_csv('/Users/katy/Desktop/oss-census-visualization/contributor/'+lang+'.csv', error_bad_lines=False, warn_bad_lines=False, index_col=False)\n",
      "/var/folders/p2/fzp_yms956z0g9f_fd8jnx2c0000gn/T/ipykernel_6743/739849329.py:4: FutureWarning: The error_bad_lines argument has been deprecated and will be removed in a future version. Use on_bad_lines in the future.\n",
      "\n",
      "\n",
      "  dat = pd.read_csv('/Users/katy/Desktop/oss-census-visualization/contributor/'+lang+'.csv', error_bad_lines=False, warn_bad_lines=False, index_col=False)\n",
      "/var/folders/p2/fzp_yms956z0g9f_fd8jnx2c0000gn/T/ipykernel_6743/739849329.py:4: FutureWarning: The warn_bad_lines argument has been deprecated and will be removed in a future version. Use on_bad_lines in the future.\n",
      "\n",
      "\n",
      "  dat = pd.read_csv('/Users/katy/Desktop/oss-census-visualization/contributor/'+lang+'.csv', error_bad_lines=False, warn_bad_lines=False, index_col=False)\n",
      "/var/folders/p2/fzp_yms956z0g9f_fd8jnx2c0000gn/T/ipykernel_6743/739849329.py:4: FutureWarning: The error_bad_lines argument has been deprecated and will be removed in a future version. Use on_bad_lines in the future.\n",
      "\n",
      "\n",
      "  dat = pd.read_csv('/Users/katy/Desktop/oss-census-visualization/contributor/'+lang+'.csv', error_bad_lines=False, warn_bad_lines=False, index_col=False)\n",
      "/var/folders/p2/fzp_yms956z0g9f_fd8jnx2c0000gn/T/ipykernel_6743/739849329.py:4: FutureWarning: The warn_bad_lines argument has been deprecated and will be removed in a future version. Use on_bad_lines in the future.\n",
      "\n",
      "\n",
      "  dat = pd.read_csv('/Users/katy/Desktop/oss-census-visualization/contributor/'+lang+'.csv', error_bad_lines=False, warn_bad_lines=False, index_col=False)\n",
      "/var/folders/p2/fzp_yms956z0g9f_fd8jnx2c0000gn/T/ipykernel_6743/739849329.py:4: FutureWarning: The error_bad_lines argument has been deprecated and will be removed in a future version. Use on_bad_lines in the future.\n",
      "\n",
      "\n",
      "  dat = pd.read_csv('/Users/katy/Desktop/oss-census-visualization/contributor/'+lang+'.csv', error_bad_lines=False, warn_bad_lines=False, index_col=False)\n",
      "/var/folders/p2/fzp_yms956z0g9f_fd8jnx2c0000gn/T/ipykernel_6743/739849329.py:4: FutureWarning: The warn_bad_lines argument has been deprecated and will be removed in a future version. Use on_bad_lines in the future.\n",
      "\n",
      "\n",
      "  dat = pd.read_csv('/Users/katy/Desktop/oss-census-visualization/contributor/'+lang+'.csv', error_bad_lines=False, warn_bad_lines=False, index_col=False)\n",
      "/var/folders/p2/fzp_yms956z0g9f_fd8jnx2c0000gn/T/ipykernel_6743/739849329.py:4: FutureWarning: The error_bad_lines argument has been deprecated and will be removed in a future version. Use on_bad_lines in the future.\n",
      "\n",
      "\n",
      "  dat = pd.read_csv('/Users/katy/Desktop/oss-census-visualization/contributor/'+lang+'.csv', error_bad_lines=False, warn_bad_lines=False, index_col=False)\n",
      "/var/folders/p2/fzp_yms956z0g9f_fd8jnx2c0000gn/T/ipykernel_6743/739849329.py:4: FutureWarning: The warn_bad_lines argument has been deprecated and will be removed in a future version. Use on_bad_lines in the future.\n",
      "\n",
      "\n",
      "  dat = pd.read_csv('/Users/katy/Desktop/oss-census-visualization/contributor/'+lang+'.csv', error_bad_lines=False, warn_bad_lines=False, index_col=False)\n",
      "/var/folders/p2/fzp_yms956z0g9f_fd8jnx2c0000gn/T/ipykernel_6743/739849329.py:4: FutureWarning: The error_bad_lines argument has been deprecated and will be removed in a future version. Use on_bad_lines in the future.\n",
      "\n",
      "\n",
      "  dat = pd.read_csv('/Users/katy/Desktop/oss-census-visualization/contributor/'+lang+'.csv', error_bad_lines=False, warn_bad_lines=False, index_col=False)\n",
      "/var/folders/p2/fzp_yms956z0g9f_fd8jnx2c0000gn/T/ipykernel_6743/739849329.py:4: FutureWarning: The warn_bad_lines argument has been deprecated and will be removed in a future version. Use on_bad_lines in the future.\n",
      "\n",
      "\n",
      "  dat = pd.read_csv('/Users/katy/Desktop/oss-census-visualization/contributor/'+lang+'.csv', error_bad_lines=False, warn_bad_lines=False, index_col=False)\n",
      "/var/folders/p2/fzp_yms956z0g9f_fd8jnx2c0000gn/T/ipykernel_6743/739849329.py:4: FutureWarning: The error_bad_lines argument has been deprecated and will be removed in a future version. Use on_bad_lines in the future.\n",
      "\n",
      "\n",
      "  dat = pd.read_csv('/Users/katy/Desktop/oss-census-visualization/contributor/'+lang+'.csv', error_bad_lines=False, warn_bad_lines=False, index_col=False)\n",
      "/var/folders/p2/fzp_yms956z0g9f_fd8jnx2c0000gn/T/ipykernel_6743/739849329.py:4: FutureWarning: The warn_bad_lines argument has been deprecated and will be removed in a future version. Use on_bad_lines in the future.\n",
      "\n",
      "\n",
      "  dat = pd.read_csv('/Users/katy/Desktop/oss-census-visualization/contributor/'+lang+'.csv', error_bad_lines=False, warn_bad_lines=False, index_col=False)\n",
      "/var/folders/p2/fzp_yms956z0g9f_fd8jnx2c0000gn/T/ipykernel_6743/739849329.py:24: RuntimeWarning: More than 20 figures have been opened. Figures created through the pyplot interface (`matplotlib.pyplot.figure`) are retained until explicitly closed and may consume too much memory. (To control this warning, see the rcParam `figure.max_open_warning`).\n",
      "  fig,ax2 = plt.subplots()\n"
     ]
    },
    {
     "data": {
      "text/plain": [
       "<Figure size 432x288 with 0 Axes>"
      ]
     },
     "metadata": {},
     "output_type": "display_data"
    },
    {
     "data": {
      "text/plain": [
       "<Figure size 720x504 with 0 Axes>"
      ]
     },
     "metadata": {},
     "output_type": "display_data"
    },
    {
     "data": {
      "text/plain": [
       "<Figure size 720x504 with 0 Axes>"
      ]
     },
     "metadata": {},
     "output_type": "display_data"
    },
    {
     "data": {
      "text/plain": [
       "<Figure size 720x504 with 0 Axes>"
      ]
     },
     "metadata": {},
     "output_type": "display_data"
    },
    {
     "data": {
      "text/plain": [
       "<Figure size 720x504 with 0 Axes>"
      ]
     },
     "metadata": {},
     "output_type": "display_data"
    },
    {
     "data": {
      "text/plain": [
       "<Figure size 720x504 with 0 Axes>"
      ]
     },
     "metadata": {},
     "output_type": "display_data"
    },
    {
     "data": {
      "text/plain": [
       "<Figure size 720x504 with 0 Axes>"
      ]
     },
     "metadata": {},
     "output_type": "display_data"
    },
    {
     "data": {
      "text/plain": [
       "<Figure size 720x504 with 0 Axes>"
      ]
     },
     "metadata": {},
     "output_type": "display_data"
    },
    {
     "data": {
      "text/plain": [
       "<Figure size 720x504 with 0 Axes>"
      ]
     },
     "metadata": {},
     "output_type": "display_data"
    },
    {
     "data": {
      "text/plain": [
       "<Figure size 720x504 with 0 Axes>"
      ]
     },
     "metadata": {},
     "output_type": "display_data"
    },
    {
     "data": {
      "text/plain": [
       "<Figure size 720x504 with 0 Axes>"
      ]
     },
     "metadata": {},
     "output_type": "display_data"
    },
    {
     "data": {
      "text/plain": [
       "<Figure size 720x504 with 0 Axes>"
      ]
     },
     "metadata": {},
     "output_type": "display_data"
    },
    {
     "data": {
      "text/plain": [
       "<Figure size 720x504 with 0 Axes>"
      ]
     },
     "metadata": {},
     "output_type": "display_data"
    },
    {
     "data": {
      "text/plain": [
       "<Figure size 720x504 with 0 Axes>"
      ]
     },
     "metadata": {},
     "output_type": "display_data"
    },
    {
     "data": {
      "text/plain": [
       "<Figure size 720x504 with 0 Axes>"
      ]
     },
     "metadata": {},
     "output_type": "display_data"
    },
    {
     "data": {
      "text/plain": [
       "<Figure size 720x504 with 0 Axes>"
      ]
     },
     "metadata": {},
     "output_type": "display_data"
    },
    {
     "data": {
      "text/plain": [
       "<Figure size 720x504 with 0 Axes>"
      ]
     },
     "metadata": {},
     "output_type": "display_data"
    },
    {
     "data": {
      "text/plain": [
       "<Figure size 720x504 with 0 Axes>"
      ]
     },
     "metadata": {},
     "output_type": "display_data"
    },
    {
     "data": {
      "text/plain": [
       "<Figure size 720x504 with 0 Axes>"
      ]
     },
     "metadata": {},
     "output_type": "display_data"
    },
    {
     "data": {
      "text/plain": [
       "<Figure size 720x504 with 0 Axes>"
      ]
     },
     "metadata": {},
     "output_type": "display_data"
    },
    {
     "data": {
      "text/plain": [
       "<Figure size 720x504 with 0 Axes>"
      ]
     },
     "metadata": {},
     "output_type": "display_data"
    }
   ],
   "source": [
    "langs = [\"Atom\", \"Bower\", \"Cargo\", \"Clojars\", \"CocoaPods\", \"CPAN\", \"CRAN\", \n",
    "          \"Go\", \"Hackage\", \"Hex\", \"Maven\", \"Meteor\", \"NPM\", \"NuGet\", \"Packagist\", \n",
    "          \"PlatformIO\", \"Pub\", \"Puppet\", \"Pypi\", \"Rubygems\", \"All\"]\n",
    "for lang in langs:\n",
    "    plot_contributors(lang)"
   ]
  },
  {
   "cell_type": "markdown",
   "metadata": {},
   "source": [
    "## 2. Plot Commits\n",
    "Input: '/data2/zihe/data/OSS-census/commit_by_win/*.csv' (copied to './commit/data/')<br>\n",
    "Output: Commit count by gender by window: './commit/graph'"
   ]
  },
  {
   "cell_type": "code",
   "execution_count": 16,
   "metadata": {},
   "outputs": [],
   "source": [
    "def plot_commits(lang):\n",
    "    \n",
    "    # Import data\n",
    "    dat = pd.read_csv('/Users/katy/Desktop/oss-census-visualization/commit/'+lang+'.csv', error_bad_lines=False, warn_bad_lines=False, index_col=False)\n",
    "    max_win = 53\n",
    "    dat = dat[dat['win']<=max_win]\n",
    "    \n",
    "    # Change window to date\n",
    "    wins = dat[\"win\"]\n",
    "    new_wins = []\n",
    "    for win in wins:\n",
    "        time = 3 * win\n",
    "        year = 2008 + math.floor(time/12)\n",
    "        month = time - math.floor(time/12)*12\n",
    "        if not month:\n",
    "            month = 12\n",
    "        if month == 3:\n",
    "            new_wins.append(\"{}\".format(year))\n",
    "        else:\n",
    "            new_wins.append(\"{}-{}\".format(year,month))\n",
    "    wins = new_wins\n",
    "    \n",
    "    # Plot information\n",
    "    fig,ax2 = plt.subplots()\n",
    "    title = lang\n",
    "    if lang == \"C#\":\n",
    "        title = \"C\\#\"\n",
    "    ax2.set_title(\"Commits in \" + r\"$\\bf{\" + title + \"}$\" +\" Public Projects\", fontsize=18)\n",
    "    ax2.set_xlabel('Time (quarter)', fontsize=16)\n",
    "    # ax.set_ylabel('Commit Numbers (thousand)', fontsize=16, labelpad=5.0)\n",
    "    \n",
    "    # Plot commit number bar\n",
    "    # female = dat[\"female_commit\"] / 1000\n",
    "    # male = (dat[\"female_commit\"] + dat[\"male_commit\"]) / 1000\n",
    "    # unknown = dat[\"all_commit\"] / 1000\n",
    "    # ax.bar(wins, unknown, label = \"unknown\", color = \"blanchedalmond\")\n",
    "    # ax.bar(wins, male, label = \"male\", color = \"#f29d4b\")\n",
    "    # ax.bar(wins, female, label = \"female\", color = \"#de2d26\")\n",
    "    # plt.legend(loc=(0.02, 0.80),fontsize=12, frameon=False)\n",
    "    \n",
    "    # Plot ratio line for female in all commits\n",
    "    # ax2=ax.twinx()\n",
    "    male = dat[\"male_commit\"].replace(0, 1)\n",
    "    ratio = dat[\"female_commit\"] / (dat[\"female_commit\"] + male)\n",
    "    for win in dat[\"win\"]:\n",
    "        win = win - 1\n",
    "        if dat[\"female_commit\"][win] + male[win] <= 1000:\n",
    "            ratio[win] = 0\n",
    "    \n",
    "    ratio2 = np.ma.masked_where(((dat[\"win\"] >= 46)&(dat[\"win\"] <= 48)), ratio)\n",
    "    ax2.plot(wins, ratio2,color=\"darkblue\",marker=\"o\", markerfacecolor='white', markeredgecolor='darkblue', markeredgewidth=1, label=\"female ratio\")\n",
    "    ax2.fill_between(wins, 0, 1, where = ((dat[\"win\"] >= 46)&(dat[\"win\"] <= 48)), color='#D3D3D3', alpha=0.5, transform=ax2.get_xaxis_transform())\n",
    "    ax2.set_ylabel('Female Commit Ratio = F/(F+M)', fontsize=16, labelpad=25.0).set_rotation(270)\n",
    "    \n",
    "    # Set x ticks\n",
    "    # ax.set_xticks(np.arange(min(dat[\"win\"])-1, max(dat[\"win\"])+1, 4))\n",
    "    ax2.set_xticks(np.arange(min(dat[\"win\"])-1, max(dat[\"win\"])+1, 4))\n",
    "    \n",
    "    # Set y ticks\n",
    "    upper = math.ceil(max(dat[\"all_commit\"])/600000)*600\n",
    "    # ax.set_yticks(np.arange(0, upper *7/6, upper/6))\n",
    "    # ax.set_ylim(ymin = 0, ymax = upper)\n",
    "    ax2.set_yticks(np.arange(0, 0.36, 0.05))\n",
    "    ax2.set_ylim(ymin = 0, ymax = 0.35)\n",
    "\n",
    "    # No Frame\n",
    "    # ax.spines['top'].set_visible(False)\n",
    "    ax2.spines['top'].set_visible(False)\n",
    "    # ax.spines['bottom'].set_visible(False)\n",
    "    ax2.spines['bottom'].set_visible(True)\n",
    "    # ax.spines['left'].set_visible(False)\n",
    "    ax2.spines['left'].set_visible(True)\n",
    "    # ax.spines['right'].set_visible(False)\n",
    "    ax2.spines['right'].set_visible(False)\n",
    "    #ax.grid(axis='y')\n",
    "    #ax2.grid(axis='y')\n",
    "    \n",
    "    # Set Size\n",
    "    plt.legend(loc=(0.05, 0.85),fontsize=12, frameon=True, edgecolor=\"white\")\n",
    "    plt.rcParams[\"figure.figsize\"] = (10,7)\n",
    "    \n",
    "    # Save figure\n",
    "    plt.savefig(\"/Users/katy/Desktop/oss-census-visualization/plots/commit_line/\"+lang+\"_commit.pdf\", facecolor='white', transparent=False)\n",
    "    plt.savefig(\"/Users/katy/Desktop/oss-census-visualization/plots/commit_line/\"+lang+\"_commit.png\", facecolor='white', transparent=False)\n",
    "    #plt.show()\n",
    "    plt.clf()\n",
    "    \n",
    "#plot_commits(\"JavaScript\")"
   ]
  },
  {
   "cell_type": "code",
   "execution_count": 17,
   "metadata": {},
   "outputs": [
    {
     "name": "stderr",
     "output_type": "stream",
     "text": [
      "/var/folders/p2/fzp_yms956z0g9f_fd8jnx2c0000gn/T/ipykernel_6743/2273920523.py:4: FutureWarning: The error_bad_lines argument has been deprecated and will be removed in a future version. Use on_bad_lines in the future.\n",
      "\n",
      "\n",
      "  dat = pd.read_csv('/Users/katy/Desktop/oss-census-visualization/commit/'+lang+'.csv', error_bad_lines=False, warn_bad_lines=False, index_col=False)\n",
      "/var/folders/p2/fzp_yms956z0g9f_fd8jnx2c0000gn/T/ipykernel_6743/2273920523.py:4: FutureWarning: The warn_bad_lines argument has been deprecated and will be removed in a future version. Use on_bad_lines in the future.\n",
      "\n",
      "\n",
      "  dat = pd.read_csv('/Users/katy/Desktop/oss-census-visualization/commit/'+lang+'.csv', error_bad_lines=False, warn_bad_lines=False, index_col=False)\n",
      "/var/folders/p2/fzp_yms956z0g9f_fd8jnx2c0000gn/T/ipykernel_6743/2273920523.py:4: FutureWarning: The error_bad_lines argument has been deprecated and will be removed in a future version. Use on_bad_lines in the future.\n",
      "\n",
      "\n",
      "  dat = pd.read_csv('/Users/katy/Desktop/oss-census-visualization/commit/'+lang+'.csv', error_bad_lines=False, warn_bad_lines=False, index_col=False)\n",
      "/var/folders/p2/fzp_yms956z0g9f_fd8jnx2c0000gn/T/ipykernel_6743/2273920523.py:4: FutureWarning: The warn_bad_lines argument has been deprecated and will be removed in a future version. Use on_bad_lines in the future.\n",
      "\n",
      "\n",
      "  dat = pd.read_csv('/Users/katy/Desktop/oss-census-visualization/commit/'+lang+'.csv', error_bad_lines=False, warn_bad_lines=False, index_col=False)\n",
      "/var/folders/p2/fzp_yms956z0g9f_fd8jnx2c0000gn/T/ipykernel_6743/2273920523.py:4: FutureWarning: The error_bad_lines argument has been deprecated and will be removed in a future version. Use on_bad_lines in the future.\n",
      "\n",
      "\n",
      "  dat = pd.read_csv('/Users/katy/Desktop/oss-census-visualization/commit/'+lang+'.csv', error_bad_lines=False, warn_bad_lines=False, index_col=False)\n",
      "/var/folders/p2/fzp_yms956z0g9f_fd8jnx2c0000gn/T/ipykernel_6743/2273920523.py:4: FutureWarning: The warn_bad_lines argument has been deprecated and will be removed in a future version. Use on_bad_lines in the future.\n",
      "\n",
      "\n",
      "  dat = pd.read_csv('/Users/katy/Desktop/oss-census-visualization/commit/'+lang+'.csv', error_bad_lines=False, warn_bad_lines=False, index_col=False)\n",
      "/var/folders/p2/fzp_yms956z0g9f_fd8jnx2c0000gn/T/ipykernel_6743/2273920523.py:4: FutureWarning: The error_bad_lines argument has been deprecated and will be removed in a future version. Use on_bad_lines in the future.\n",
      "\n",
      "\n",
      "  dat = pd.read_csv('/Users/katy/Desktop/oss-census-visualization/commit/'+lang+'.csv', error_bad_lines=False, warn_bad_lines=False, index_col=False)\n",
      "/var/folders/p2/fzp_yms956z0g9f_fd8jnx2c0000gn/T/ipykernel_6743/2273920523.py:4: FutureWarning: The warn_bad_lines argument has been deprecated and will be removed in a future version. Use on_bad_lines in the future.\n",
      "\n",
      "\n",
      "  dat = pd.read_csv('/Users/katy/Desktop/oss-census-visualization/commit/'+lang+'.csv', error_bad_lines=False, warn_bad_lines=False, index_col=False)\n",
      "/var/folders/p2/fzp_yms956z0g9f_fd8jnx2c0000gn/T/ipykernel_6743/2273920523.py:4: FutureWarning: The error_bad_lines argument has been deprecated and will be removed in a future version. Use on_bad_lines in the future.\n",
      "\n",
      "\n",
      "  dat = pd.read_csv('/Users/katy/Desktop/oss-census-visualization/commit/'+lang+'.csv', error_bad_lines=False, warn_bad_lines=False, index_col=False)\n",
      "/var/folders/p2/fzp_yms956z0g9f_fd8jnx2c0000gn/T/ipykernel_6743/2273920523.py:4: FutureWarning: The warn_bad_lines argument has been deprecated and will be removed in a future version. Use on_bad_lines in the future.\n",
      "\n",
      "\n",
      "  dat = pd.read_csv('/Users/katy/Desktop/oss-census-visualization/commit/'+lang+'.csv', error_bad_lines=False, warn_bad_lines=False, index_col=False)\n",
      "/var/folders/p2/fzp_yms956z0g9f_fd8jnx2c0000gn/T/ipykernel_6743/2273920523.py:4: FutureWarning: The error_bad_lines argument has been deprecated and will be removed in a future version. Use on_bad_lines in the future.\n",
      "\n",
      "\n",
      "  dat = pd.read_csv('/Users/katy/Desktop/oss-census-visualization/commit/'+lang+'.csv', error_bad_lines=False, warn_bad_lines=False, index_col=False)\n",
      "/var/folders/p2/fzp_yms956z0g9f_fd8jnx2c0000gn/T/ipykernel_6743/2273920523.py:4: FutureWarning: The warn_bad_lines argument has been deprecated and will be removed in a future version. Use on_bad_lines in the future.\n",
      "\n",
      "\n",
      "  dat = pd.read_csv('/Users/katy/Desktop/oss-census-visualization/commit/'+lang+'.csv', error_bad_lines=False, warn_bad_lines=False, index_col=False)\n",
      "/var/folders/p2/fzp_yms956z0g9f_fd8jnx2c0000gn/T/ipykernel_6743/2273920523.py:4: FutureWarning: The error_bad_lines argument has been deprecated and will be removed in a future version. Use on_bad_lines in the future.\n",
      "\n",
      "\n",
      "  dat = pd.read_csv('/Users/katy/Desktop/oss-census-visualization/commit/'+lang+'.csv', error_bad_lines=False, warn_bad_lines=False, index_col=False)\n",
      "/var/folders/p2/fzp_yms956z0g9f_fd8jnx2c0000gn/T/ipykernel_6743/2273920523.py:4: FutureWarning: The warn_bad_lines argument has been deprecated and will be removed in a future version. Use on_bad_lines in the future.\n",
      "\n",
      "\n",
      "  dat = pd.read_csv('/Users/katy/Desktop/oss-census-visualization/commit/'+lang+'.csv', error_bad_lines=False, warn_bad_lines=False, index_col=False)\n",
      "/var/folders/p2/fzp_yms956z0g9f_fd8jnx2c0000gn/T/ipykernel_6743/2273920523.py:4: FutureWarning: The error_bad_lines argument has been deprecated and will be removed in a future version. Use on_bad_lines in the future.\n",
      "\n",
      "\n",
      "  dat = pd.read_csv('/Users/katy/Desktop/oss-census-visualization/commit/'+lang+'.csv', error_bad_lines=False, warn_bad_lines=False, index_col=False)\n",
      "/var/folders/p2/fzp_yms956z0g9f_fd8jnx2c0000gn/T/ipykernel_6743/2273920523.py:4: FutureWarning: The warn_bad_lines argument has been deprecated and will be removed in a future version. Use on_bad_lines in the future.\n",
      "\n",
      "\n",
      "  dat = pd.read_csv('/Users/katy/Desktop/oss-census-visualization/commit/'+lang+'.csv', error_bad_lines=False, warn_bad_lines=False, index_col=False)\n",
      "/var/folders/p2/fzp_yms956z0g9f_fd8jnx2c0000gn/T/ipykernel_6743/2273920523.py:4: FutureWarning: The error_bad_lines argument has been deprecated and will be removed in a future version. Use on_bad_lines in the future.\n",
      "\n",
      "\n",
      "  dat = pd.read_csv('/Users/katy/Desktop/oss-census-visualization/commit/'+lang+'.csv', error_bad_lines=False, warn_bad_lines=False, index_col=False)\n",
      "/var/folders/p2/fzp_yms956z0g9f_fd8jnx2c0000gn/T/ipykernel_6743/2273920523.py:4: FutureWarning: The warn_bad_lines argument has been deprecated and will be removed in a future version. Use on_bad_lines in the future.\n",
      "\n",
      "\n",
      "  dat = pd.read_csv('/Users/katy/Desktop/oss-census-visualization/commit/'+lang+'.csv', error_bad_lines=False, warn_bad_lines=False, index_col=False)\n",
      "/var/folders/p2/fzp_yms956z0g9f_fd8jnx2c0000gn/T/ipykernel_6743/2273920523.py:4: FutureWarning: The error_bad_lines argument has been deprecated and will be removed in a future version. Use on_bad_lines in the future.\n",
      "\n",
      "\n",
      "  dat = pd.read_csv('/Users/katy/Desktop/oss-census-visualization/commit/'+lang+'.csv', error_bad_lines=False, warn_bad_lines=False, index_col=False)\n",
      "/var/folders/p2/fzp_yms956z0g9f_fd8jnx2c0000gn/T/ipykernel_6743/2273920523.py:4: FutureWarning: The warn_bad_lines argument has been deprecated and will be removed in a future version. Use on_bad_lines in the future.\n",
      "\n",
      "\n",
      "  dat = pd.read_csv('/Users/katy/Desktop/oss-census-visualization/commit/'+lang+'.csv', error_bad_lines=False, warn_bad_lines=False, index_col=False)\n",
      "/var/folders/p2/fzp_yms956z0g9f_fd8jnx2c0000gn/T/ipykernel_6743/2273920523.py:4: FutureWarning: The error_bad_lines argument has been deprecated and will be removed in a future version. Use on_bad_lines in the future.\n",
      "\n",
      "\n",
      "  dat = pd.read_csv('/Users/katy/Desktop/oss-census-visualization/commit/'+lang+'.csv', error_bad_lines=False, warn_bad_lines=False, index_col=False)\n",
      "/var/folders/p2/fzp_yms956z0g9f_fd8jnx2c0000gn/T/ipykernel_6743/2273920523.py:4: FutureWarning: The warn_bad_lines argument has been deprecated and will be removed in a future version. Use on_bad_lines in the future.\n",
      "\n",
      "\n",
      "  dat = pd.read_csv('/Users/katy/Desktop/oss-census-visualization/commit/'+lang+'.csv', error_bad_lines=False, warn_bad_lines=False, index_col=False)\n",
      "/var/folders/p2/fzp_yms956z0g9f_fd8jnx2c0000gn/T/ipykernel_6743/2273920523.py:4: FutureWarning: The error_bad_lines argument has been deprecated and will be removed in a future version. Use on_bad_lines in the future.\n",
      "\n",
      "\n",
      "  dat = pd.read_csv('/Users/katy/Desktop/oss-census-visualization/commit/'+lang+'.csv', error_bad_lines=False, warn_bad_lines=False, index_col=False)\n",
      "/var/folders/p2/fzp_yms956z0g9f_fd8jnx2c0000gn/T/ipykernel_6743/2273920523.py:4: FutureWarning: The warn_bad_lines argument has been deprecated and will be removed in a future version. Use on_bad_lines in the future.\n",
      "\n",
      "\n",
      "  dat = pd.read_csv('/Users/katy/Desktop/oss-census-visualization/commit/'+lang+'.csv', error_bad_lines=False, warn_bad_lines=False, index_col=False)\n",
      "/var/folders/p2/fzp_yms956z0g9f_fd8jnx2c0000gn/T/ipykernel_6743/2273920523.py:4: FutureWarning: The error_bad_lines argument has been deprecated and will be removed in a future version. Use on_bad_lines in the future.\n",
      "\n",
      "\n",
      "  dat = pd.read_csv('/Users/katy/Desktop/oss-census-visualization/commit/'+lang+'.csv', error_bad_lines=False, warn_bad_lines=False, index_col=False)\n",
      "/var/folders/p2/fzp_yms956z0g9f_fd8jnx2c0000gn/T/ipykernel_6743/2273920523.py:4: FutureWarning: The warn_bad_lines argument has been deprecated and will be removed in a future version. Use on_bad_lines in the future.\n",
      "\n",
      "\n",
      "  dat = pd.read_csv('/Users/katy/Desktop/oss-census-visualization/commit/'+lang+'.csv', error_bad_lines=False, warn_bad_lines=False, index_col=False)\n",
      "/var/folders/p2/fzp_yms956z0g9f_fd8jnx2c0000gn/T/ipykernel_6743/2273920523.py:4: FutureWarning: The error_bad_lines argument has been deprecated and will be removed in a future version. Use on_bad_lines in the future.\n",
      "\n",
      "\n",
      "  dat = pd.read_csv('/Users/katy/Desktop/oss-census-visualization/commit/'+lang+'.csv', error_bad_lines=False, warn_bad_lines=False, index_col=False)\n",
      "/var/folders/p2/fzp_yms956z0g9f_fd8jnx2c0000gn/T/ipykernel_6743/2273920523.py:4: FutureWarning: The warn_bad_lines argument has been deprecated and will be removed in a future version. Use on_bad_lines in the future.\n",
      "\n",
      "\n",
      "  dat = pd.read_csv('/Users/katy/Desktop/oss-census-visualization/commit/'+lang+'.csv', error_bad_lines=False, warn_bad_lines=False, index_col=False)\n",
      "/var/folders/p2/fzp_yms956z0g9f_fd8jnx2c0000gn/T/ipykernel_6743/2273920523.py:4: FutureWarning: The error_bad_lines argument has been deprecated and will be removed in a future version. Use on_bad_lines in the future.\n",
      "\n",
      "\n",
      "  dat = pd.read_csv('/Users/katy/Desktop/oss-census-visualization/commit/'+lang+'.csv', error_bad_lines=False, warn_bad_lines=False, index_col=False)\n",
      "/var/folders/p2/fzp_yms956z0g9f_fd8jnx2c0000gn/T/ipykernel_6743/2273920523.py:4: FutureWarning: The warn_bad_lines argument has been deprecated and will be removed in a future version. Use on_bad_lines in the future.\n",
      "\n",
      "\n",
      "  dat = pd.read_csv('/Users/katy/Desktop/oss-census-visualization/commit/'+lang+'.csv', error_bad_lines=False, warn_bad_lines=False, index_col=False)\n",
      "/var/folders/p2/fzp_yms956z0g9f_fd8jnx2c0000gn/T/ipykernel_6743/2273920523.py:4: FutureWarning: The error_bad_lines argument has been deprecated and will be removed in a future version. Use on_bad_lines in the future.\n",
      "\n",
      "\n",
      "  dat = pd.read_csv('/Users/katy/Desktop/oss-census-visualization/commit/'+lang+'.csv', error_bad_lines=False, warn_bad_lines=False, index_col=False)\n",
      "/var/folders/p2/fzp_yms956z0g9f_fd8jnx2c0000gn/T/ipykernel_6743/2273920523.py:4: FutureWarning: The warn_bad_lines argument has been deprecated and will be removed in a future version. Use on_bad_lines in the future.\n",
      "\n",
      "\n",
      "  dat = pd.read_csv('/Users/katy/Desktop/oss-census-visualization/commit/'+lang+'.csv', error_bad_lines=False, warn_bad_lines=False, index_col=False)\n",
      "/var/folders/p2/fzp_yms956z0g9f_fd8jnx2c0000gn/T/ipykernel_6743/2273920523.py:4: FutureWarning: The error_bad_lines argument has been deprecated and will be removed in a future version. Use on_bad_lines in the future.\n",
      "\n",
      "\n",
      "  dat = pd.read_csv('/Users/katy/Desktop/oss-census-visualization/commit/'+lang+'.csv', error_bad_lines=False, warn_bad_lines=False, index_col=False)\n",
      "/var/folders/p2/fzp_yms956z0g9f_fd8jnx2c0000gn/T/ipykernel_6743/2273920523.py:4: FutureWarning: The warn_bad_lines argument has been deprecated and will be removed in a future version. Use on_bad_lines in the future.\n",
      "\n",
      "\n",
      "  dat = pd.read_csv('/Users/katy/Desktop/oss-census-visualization/commit/'+lang+'.csv', error_bad_lines=False, warn_bad_lines=False, index_col=False)\n",
      "/var/folders/p2/fzp_yms956z0g9f_fd8jnx2c0000gn/T/ipykernel_6743/2273920523.py:4: FutureWarning: The error_bad_lines argument has been deprecated and will be removed in a future version. Use on_bad_lines in the future.\n",
      "\n",
      "\n",
      "  dat = pd.read_csv('/Users/katy/Desktop/oss-census-visualization/commit/'+lang+'.csv', error_bad_lines=False, warn_bad_lines=False, index_col=False)\n",
      "/var/folders/p2/fzp_yms956z0g9f_fd8jnx2c0000gn/T/ipykernel_6743/2273920523.py:4: FutureWarning: The warn_bad_lines argument has been deprecated and will be removed in a future version. Use on_bad_lines in the future.\n",
      "\n",
      "\n",
      "  dat = pd.read_csv('/Users/katy/Desktop/oss-census-visualization/commit/'+lang+'.csv', error_bad_lines=False, warn_bad_lines=False, index_col=False)\n",
      "/var/folders/p2/fzp_yms956z0g9f_fd8jnx2c0000gn/T/ipykernel_6743/2273920523.py:4: FutureWarning: The error_bad_lines argument has been deprecated and will be removed in a future version. Use on_bad_lines in the future.\n",
      "\n",
      "\n",
      "  dat = pd.read_csv('/Users/katy/Desktop/oss-census-visualization/commit/'+lang+'.csv', error_bad_lines=False, warn_bad_lines=False, index_col=False)\n",
      "/var/folders/p2/fzp_yms956z0g9f_fd8jnx2c0000gn/T/ipykernel_6743/2273920523.py:4: FutureWarning: The warn_bad_lines argument has been deprecated and will be removed in a future version. Use on_bad_lines in the future.\n",
      "\n",
      "\n",
      "  dat = pd.read_csv('/Users/katy/Desktop/oss-census-visualization/commit/'+lang+'.csv', error_bad_lines=False, warn_bad_lines=False, index_col=False)\n",
      "/var/folders/p2/fzp_yms956z0g9f_fd8jnx2c0000gn/T/ipykernel_6743/2273920523.py:4: FutureWarning: The error_bad_lines argument has been deprecated and will be removed in a future version. Use on_bad_lines in the future.\n",
      "\n",
      "\n",
      "  dat = pd.read_csv('/Users/katy/Desktop/oss-census-visualization/commit/'+lang+'.csv', error_bad_lines=False, warn_bad_lines=False, index_col=False)\n",
      "/var/folders/p2/fzp_yms956z0g9f_fd8jnx2c0000gn/T/ipykernel_6743/2273920523.py:4: FutureWarning: The warn_bad_lines argument has been deprecated and will be removed in a future version. Use on_bad_lines in the future.\n",
      "\n",
      "\n",
      "  dat = pd.read_csv('/Users/katy/Desktop/oss-census-visualization/commit/'+lang+'.csv', error_bad_lines=False, warn_bad_lines=False, index_col=False)\n",
      "/var/folders/p2/fzp_yms956z0g9f_fd8jnx2c0000gn/T/ipykernel_6743/2273920523.py:4: FutureWarning: The error_bad_lines argument has been deprecated and will be removed in a future version. Use on_bad_lines in the future.\n",
      "\n",
      "\n",
      "  dat = pd.read_csv('/Users/katy/Desktop/oss-census-visualization/commit/'+lang+'.csv', error_bad_lines=False, warn_bad_lines=False, index_col=False)\n",
      "/var/folders/p2/fzp_yms956z0g9f_fd8jnx2c0000gn/T/ipykernel_6743/2273920523.py:4: FutureWarning: The warn_bad_lines argument has been deprecated and will be removed in a future version. Use on_bad_lines in the future.\n",
      "\n",
      "\n",
      "  dat = pd.read_csv('/Users/katy/Desktop/oss-census-visualization/commit/'+lang+'.csv', error_bad_lines=False, warn_bad_lines=False, index_col=False)\n",
      "/var/folders/p2/fzp_yms956z0g9f_fd8jnx2c0000gn/T/ipykernel_6743/2273920523.py:24: RuntimeWarning: More than 20 figures have been opened. Figures created through the pyplot interface (`matplotlib.pyplot.figure`) are retained until explicitly closed and may consume too much memory. (To control this warning, see the rcParam `figure.max_open_warning`).\n",
      "  fig,ax2 = plt.subplots()\n"
     ]
    },
    {
     "data": {
      "text/plain": [
       "<Figure size 720x504 with 0 Axes>"
      ]
     },
     "metadata": {},
     "output_type": "display_data"
    },
    {
     "data": {
      "text/plain": [
       "<Figure size 720x504 with 0 Axes>"
      ]
     },
     "metadata": {},
     "output_type": "display_data"
    },
    {
     "data": {
      "text/plain": [
       "<Figure size 720x504 with 0 Axes>"
      ]
     },
     "metadata": {},
     "output_type": "display_data"
    },
    {
     "data": {
      "text/plain": [
       "<Figure size 720x504 with 0 Axes>"
      ]
     },
     "metadata": {},
     "output_type": "display_data"
    },
    {
     "data": {
      "text/plain": [
       "<Figure size 720x504 with 0 Axes>"
      ]
     },
     "metadata": {},
     "output_type": "display_data"
    },
    {
     "data": {
      "text/plain": [
       "<Figure size 720x504 with 0 Axes>"
      ]
     },
     "metadata": {},
     "output_type": "display_data"
    },
    {
     "data": {
      "text/plain": [
       "<Figure size 720x504 with 0 Axes>"
      ]
     },
     "metadata": {},
     "output_type": "display_data"
    },
    {
     "data": {
      "text/plain": [
       "<Figure size 720x504 with 0 Axes>"
      ]
     },
     "metadata": {},
     "output_type": "display_data"
    },
    {
     "data": {
      "text/plain": [
       "<Figure size 720x504 with 0 Axes>"
      ]
     },
     "metadata": {},
     "output_type": "display_data"
    },
    {
     "data": {
      "text/plain": [
       "<Figure size 720x504 with 0 Axes>"
      ]
     },
     "metadata": {},
     "output_type": "display_data"
    },
    {
     "data": {
      "text/plain": [
       "<Figure size 720x504 with 0 Axes>"
      ]
     },
     "metadata": {},
     "output_type": "display_data"
    },
    {
     "data": {
      "text/plain": [
       "<Figure size 720x504 with 0 Axes>"
      ]
     },
     "metadata": {},
     "output_type": "display_data"
    },
    {
     "data": {
      "text/plain": [
       "<Figure size 720x504 with 0 Axes>"
      ]
     },
     "metadata": {},
     "output_type": "display_data"
    },
    {
     "data": {
      "text/plain": [
       "<Figure size 720x504 with 0 Axes>"
      ]
     },
     "metadata": {},
     "output_type": "display_data"
    },
    {
     "data": {
      "text/plain": [
       "<Figure size 720x504 with 0 Axes>"
      ]
     },
     "metadata": {},
     "output_type": "display_data"
    },
    {
     "data": {
      "text/plain": [
       "<Figure size 720x504 with 0 Axes>"
      ]
     },
     "metadata": {},
     "output_type": "display_data"
    },
    {
     "data": {
      "text/plain": [
       "<Figure size 720x504 with 0 Axes>"
      ]
     },
     "metadata": {},
     "output_type": "display_data"
    },
    {
     "data": {
      "text/plain": [
       "<Figure size 720x504 with 0 Axes>"
      ]
     },
     "metadata": {},
     "output_type": "display_data"
    },
    {
     "data": {
      "text/plain": [
       "<Figure size 720x504 with 0 Axes>"
      ]
     },
     "metadata": {},
     "output_type": "display_data"
    },
    {
     "data": {
      "text/plain": [
       "<Figure size 720x504 with 0 Axes>"
      ]
     },
     "metadata": {},
     "output_type": "display_data"
    },
    {
     "data": {
      "text/plain": [
       "<Figure size 720x504 with 0 Axes>"
      ]
     },
     "metadata": {},
     "output_type": "display_data"
    }
   ],
   "source": [
    "langs = [\"Atom\", \"Bower\", \"Cargo\", \"Clojars\", \"CocoaPods\", \"CPAN\", \"CRAN\", \n",
    "          \"Go\", \"Hackage\", \"Hex\", \"Maven\", \"Meteor\", \"NPM\", \"NuGet\", \"Packagist\", \n",
    "          \"PlatformIO\", \"Pub\", \"Puppet\", \"Pypi\", \"Rubygems\", \"All\"]\n",
    "for lang in langs:\n",
    "    plot_commits(lang)"
   ]
  }
 ],
 "metadata": {
  "kernelspec": {
   "display_name": "Python 3",
   "language": "python",
   "name": "python3"
  },
  "language_info": {
   "codemirror_mode": {
    "name": "ipython",
    "version": 3
   },
   "file_extension": ".py",
   "mimetype": "text/x-python",
   "name": "python",
   "nbconvert_exporter": "python",
   "pygments_lexer": "ipython3",
   "version": "3.9.6"
  }
 },
 "nbformat": 4,
 "nbformat_minor": 4
}
