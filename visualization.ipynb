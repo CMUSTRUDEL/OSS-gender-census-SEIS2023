{
 "cells": [
  {
   "cell_type": "markdown",
   "metadata": {},
   "source": [
    "# Visualize Results"
   ]
  },
  {
   "cell_type": "code",
   "execution_count": 1,
   "metadata": {},
   "outputs": [],
   "source": [
    "import math\n",
    "import random\n",
    "\n",
    "import numpy as np\n",
    "import pandas as pd\n",
    "import matplotlib as mpl\n",
    "import matplotlib.pyplot as plt\n",
    "from scipy.interpolate import splrep, splev\n",
    "%matplotlib inline"
   ]
  },
  {
   "cell_type": "markdown",
   "metadata": {},
   "source": [
    "## 1. Plot Contributors\n",
    "Input: '/data2/zihe/data/OSS-census/contributor_by_win/*.csv' (copied to './contributor/data/')<br>\n",
    "Output:\n",
    "- All active contributor by gender by window: './contributor/all/'\n",
    "- Core active contributor by gender by window: './contributor/core/'"
   ]
  },
  {
   "cell_type": "code",
   "execution_count": 66,
   "metadata": {},
   "outputs": [],
   "source": [
    "def plot_contributors(lang):\n",
    "    \n",
    "    # Import data\n",
    "    dat = pd.read_csv('./contributor/data/'+lang+'.csv', error_bad_lines=False, warn_bad_lines=False, index_col=False)\n",
    "    max_win = 45\n",
    "    dat = dat[dat['win']<=max_win]\n",
    "    \n",
    "    # Change window to date\n",
    "    wins = dat[\"win\"]\n",
    "    new_wins = []\n",
    "    for win in wins:\n",
    "        time = 3 * win\n",
    "        year = 2008 + math.floor(time/12)\n",
    "        month = time - math.floor(time/12)*12\n",
    "        if not month:\n",
    "            month = 12\n",
    "        if month == 3:\n",
    "            new_wins.append(\"{}\".format(year))\n",
    "        else:\n",
    "            new_wins.append(\"{}-{}\".format(year,month))\n",
    "    wins = new_wins\n",
    "    \n",
    "    # Plot information\n",
    "    fig,ax = plt.subplots()\n",
    "    title = lang\n",
    "    if lang == \"C#\":\n",
    "        title = \"C\\#\"\n",
    "    ax.set_title(\"Active Contributors in \" + r\"$\\bf{\" + title + \"}$\" +\" Public Projects\", fontsize=18)\n",
    "    ax.set_xlabel('Time (quarter)', fontsize=16)\n",
    "    ax.set_ylabel('Number of Contributors (thousand)', fontsize=16, labelpad=5.0)\n",
    "    \n",
    "    # Plot contributor number bar\n",
    "    female = dat[\"female_all\"] / 1000\n",
    "    male = (dat[\"female_all\"] + dat[\"male_all\"]) / 1000\n",
    "    unknown = (dat[\"all_all\"]) / 1000\n",
    "    ax.bar(wins, unknown, label = \"All unknown\", color = \"blanchedalmond\")\n",
    "    ax.bar(wins, male, label = \"All male\", color = \"#f29d4b\")\n",
    "    ax.bar(wins, female, label = \"All female\", color = \"#de2d26\")\n",
    "    plt.legend(loc=(0.02, 0.80),fontsize=12, frameon=False)\n",
    "\n",
    "    # Plot ratio line for female in all contributor\n",
    "    ax2=ax.twinx()\n",
    "    male = dat[\"male_all\"].replace(0, 1)\n",
    "    ratio = dat[\"female_all\"] / (dat[\"female_all\"] + male)\n",
    "    for win in dat[\"win\"]:\n",
    "        win = win - 1\n",
    "        if dat[\"female_all\"][win] + male[win] <= 5:\n",
    "            ratio[win] = 0\n",
    "    ax2.plot(wins, ratio,color=\"darkblue\",marker=\"o\", markerfacecolor='white', markeredgecolor='darkblue', markeredgewidth=1, label=\"Among all\")\n",
    "    ax2.set_ylabel('Female Ratio = F/(F+M)', fontsize=16, labelpad=25.0).set_rotation(270)\n",
    "    last_all = ratio[max_win-1]\n",
    "    \n",
    "    # Plot ratio line for female in core contributor\n",
    "    male = dat[\"male_core\"].replace(0, 1)\n",
    "    ratio = dat[\"female_core\"] / (dat[\"female_core\"] + male)\n",
    "    for win in dat[\"win\"]:\n",
    "        win = win - 1\n",
    "        if dat[\"female_core\"][win] + male[win] <= 10:\n",
    "            ratio[win] = 0\n",
    "    ax2.plot(wins, ratio,color=\"darkblue\",marker=\"s\", markeredgecolor='darkblue', markeredgewidth=1, label=\"Among core\")\n",
    "    last_core = ratio[max_win-1]\n",
    "    #plt.figtext(0.1, 0.02,\"* Female ratio gap in the last window is \" + (str(round((last_all-last_core)*100, 2))+\"0\")[0:4] + \"%.\")\n",
    "    \n",
    "    # Set x ticks\n",
    "    ax.set_xticks(np.arange(min(dat[\"win\"])-1, max(dat[\"win\"])+1, 4))\n",
    "    ax2.set_xticks(np.arange(min(dat[\"win\"])-1, max(dat[\"win\"])+1, 4))\n",
    "    \n",
    "    # Set y ticks\n",
    "    upper = math.ceil(max(dat[\"all_all\"])/60000)*60\n",
    "    ax.set_yticks(np.arange(0, upper * 7 / 6, upper/6))\n",
    "    ax.set_ylim(ymin = 0, ymax = upper)\n",
    "    ax2.set_yticks(np.arange(0, 0.19, 0.03))\n",
    "    ax2.set_ylim(ymin = 0, ymax = 0.18)\n",
    "    \n",
    "    # No Frame\n",
    "    ax.spines['top'].set_visible(False)\n",
    "    ax2.spines['top'].set_visible(False)\n",
    "    ax.spines['bottom'].set_visible(False)\n",
    "    ax2.spines['bottom'].set_visible(False)\n",
    "    ax.spines['left'].set_visible(False)\n",
    "    ax2.spines['left'].set_visible(False)\n",
    "    ax.spines['right'].set_visible(False)\n",
    "    ax2.spines['right'].set_visible(False)\n",
    "    #ax.grid(axis='y')\n",
    "    #ax2.grid(axis='y')\n",
    "    \n",
    "    # Set Size\n",
    "    plt.legend(loc=(0.75, 0.85),fontsize=12, frameon=True,edgecolor=\"white\")\n",
    "    plt.rcParams[\"figure.figsize\"] = (10,7)\n",
    "    \n",
    "    # Save figure\n",
    "    plt.savefig(\"./contributor/graph/\"+lang+\"_contributor.pdf\", facecolor='white', transparent=False)\n",
    "    plt.savefig(\"./contributor/graph/\"+lang+\"_contributor.png\", facecolor='white', transparent=False)\n",
    "    #plt.show()\n",
    "    plt.clf()\n",
    "\n",
    "#plot_contributors(\"HTML\")"
   ]
  },
  {
   "cell_type": "code",
   "execution_count": 67,
   "metadata": {},
   "outputs": [
    {
     "data": {
      "text/plain": [
       "<Figure size 720x504 with 0 Axes>"
      ]
     },
     "metadata": {},
     "output_type": "display_data"
    },
    {
     "data": {
      "text/plain": [
       "<Figure size 720x504 with 0 Axes>"
      ]
     },
     "metadata": {},
     "output_type": "display_data"
    },
    {
     "data": {
      "text/plain": [
       "<Figure size 720x504 with 0 Axes>"
      ]
     },
     "metadata": {},
     "output_type": "display_data"
    },
    {
     "data": {
      "text/plain": [
       "<Figure size 720x504 with 0 Axes>"
      ]
     },
     "metadata": {},
     "output_type": "display_data"
    },
    {
     "data": {
      "text/plain": [
       "<Figure size 720x504 with 0 Axes>"
      ]
     },
     "metadata": {},
     "output_type": "display_data"
    },
    {
     "data": {
      "text/plain": [
       "<Figure size 720x504 with 0 Axes>"
      ]
     },
     "metadata": {},
     "output_type": "display_data"
    },
    {
     "data": {
      "text/plain": [
       "<Figure size 720x504 with 0 Axes>"
      ]
     },
     "metadata": {},
     "output_type": "display_data"
    },
    {
     "data": {
      "text/plain": [
       "<Figure size 720x504 with 0 Axes>"
      ]
     },
     "metadata": {},
     "output_type": "display_data"
    },
    {
     "data": {
      "text/plain": [
       "<Figure size 720x504 with 0 Axes>"
      ]
     },
     "metadata": {},
     "output_type": "display_data"
    },
    {
     "data": {
      "text/plain": [
       "<Figure size 720x504 with 0 Axes>"
      ]
     },
     "metadata": {},
     "output_type": "display_data"
    },
    {
     "data": {
      "text/plain": [
       "<Figure size 720x504 with 0 Axes>"
      ]
     },
     "metadata": {},
     "output_type": "display_data"
    },
    {
     "data": {
      "text/plain": [
       "<Figure size 720x504 with 0 Axes>"
      ]
     },
     "metadata": {},
     "output_type": "display_data"
    },
    {
     "data": {
      "text/plain": [
       "<Figure size 720x504 with 0 Axes>"
      ]
     },
     "metadata": {},
     "output_type": "display_data"
    },
    {
     "data": {
      "text/plain": [
       "<Figure size 720x504 with 0 Axes>"
      ]
     },
     "metadata": {},
     "output_type": "display_data"
    },
    {
     "data": {
      "text/plain": [
       "<Figure size 720x504 with 0 Axes>"
      ]
     },
     "metadata": {},
     "output_type": "display_data"
    },
    {
     "data": {
      "text/plain": [
       "<Figure size 720x504 with 0 Axes>"
      ]
     },
     "metadata": {},
     "output_type": "display_data"
    }
   ],
   "source": [
    "langs = [\"JavaScript\", \"Python\", \"Java\", \"Go\", \"Ruby\", \"C++\", \"TypeScript\", \n",
    "          \"PHP\", \"C#\", \"C\", \"HTML\", \"CSS\", \"Jupyter\", \"Shell\", \"Objective-C\", \"All\"]\n",
    "for lang in langs:\n",
    "    plot_contributors(lang)"
   ]
  },
  {
   "cell_type": "markdown",
   "metadata": {},
   "source": [
    "## 2. Plot Commits\n",
    "Input: '/data2/zihe/data/OSS-census/commit_by_win/*.csv' (copied to './commit/data/')<br>\n",
    "Output: Commit count by gender by window: './commit/graph'"
   ]
  },
  {
   "cell_type": "code",
   "execution_count": 68,
   "metadata": {},
   "outputs": [],
   "source": [
    "def plot_commits(lang):\n",
    "    \n",
    "    # Import data\n",
    "    dat = pd.read_csv('./commit/data/'+lang+'.csv', error_bad_lines=False, warn_bad_lines=False, index_col=False)\n",
    "    max_win = 45\n",
    "    dat = dat[dat['win']<=max_win]\n",
    "    \n",
    "    # Change window to date\n",
    "    wins = dat[\"win\"]\n",
    "    new_wins = []\n",
    "    for win in wins:\n",
    "        time = 3 * win\n",
    "        year = 2008 + math.floor(time/12)\n",
    "        month = time - math.floor(time/12)*12\n",
    "        if not month:\n",
    "            month = 12\n",
    "        if month == 3:\n",
    "            new_wins.append(\"{}\".format(year))\n",
    "        else:\n",
    "            new_wins.append(\"{}-{}\".format(year,month))\n",
    "    wins = new_wins\n",
    "    \n",
    "    # Plot information\n",
    "    fig,ax = plt.subplots()\n",
    "    title = lang\n",
    "    if lang == \"C#\":\n",
    "        title = \"C\\#\"\n",
    "    ax.set_title(\"Commits in \" + r\"$\\bf{\" + title + \"}$\" +\" Public Projects\", fontsize=18)\n",
    "    ax.set_xlabel('Time (quarter)', fontsize=16)\n",
    "    ax.set_ylabel('Commit Numbers (thousand)', fontsize=16, labelpad=5.0)\n",
    "    \n",
    "    # Plot commit number bar\n",
    "    female = dat[\"female_commit\"] / 1000\n",
    "    male = (dat[\"female_commit\"] + dat[\"male_commit\"]) / 1000\n",
    "    unknown = dat[\"all_commit\"] / 1000\n",
    "    ax.bar(wins, unknown, label = \"unknown\", color = \"blanchedalmond\")\n",
    "    ax.bar(wins, male, label = \"male\", color = \"#f29d4b\")\n",
    "    ax.bar(wins, female, label = \"female\", color = \"#de2d26\")\n",
    "    plt.legend(loc=(0.02, 0.80),fontsize=12, frameon=False)\n",
    "    \n",
    "    # Plot ratio line for female in all commits\n",
    "    ax2=ax.twinx()\n",
    "    male = dat[\"male_commit\"].replace(0, 1)\n",
    "    ratio = dat[\"female_commit\"] / (dat[\"female_commit\"] + male)\n",
    "    for win in dat[\"win\"]:\n",
    "        win = win - 1\n",
    "        if dat[\"female_commit\"][win] + male[win] <= 1000:\n",
    "            ratio[win] = 0\n",
    "    ax2.plot(wins, ratio,color=\"darkblue\",marker=\"o\", markerfacecolor='white', markeredgecolor='darkblue', markeredgewidth=1, label=\"female ratio\")\n",
    "    ax2.set_ylabel('Female Commit Ratio = F/(F+M)', fontsize=16, labelpad=25.0).set_rotation(270)\n",
    "    \n",
    "    # Set x ticks\n",
    "    ax.set_xticks(np.arange(min(dat[\"win\"])-1, max(dat[\"win\"])+1, 4))\n",
    "    ax2.set_xticks(np.arange(min(dat[\"win\"])-1, max(dat[\"win\"])+1, 4))\n",
    "    \n",
    "    # Set y ticks\n",
    "    upper = math.ceil(max(dat[\"all_commit\"])/600000)*600\n",
    "    ax.set_yticks(np.arange(0, upper *7/6, upper/6))\n",
    "    ax.set_ylim(ymin = 0, ymax = upper)\n",
    "    ax2.set_yticks(np.arange(0, 0.36, 0.05))\n",
    "    ax2.set_ylim(ymin = 0, ymax = 0.35)\n",
    "\n",
    "    # No Frame\n",
    "    ax.spines['top'].set_visible(False)\n",
    "    ax2.spines['top'].set_visible(False)\n",
    "    ax.spines['bottom'].set_visible(False)\n",
    "    ax2.spines['bottom'].set_visible(False)\n",
    "    ax.spines['left'].set_visible(False)\n",
    "    ax2.spines['left'].set_visible(False)\n",
    "    ax.spines['right'].set_visible(False)\n",
    "    ax2.spines['right'].set_visible(False)\n",
    "    #ax.grid(axis='y')\n",
    "    #ax2.grid(axis='y')\n",
    "    \n",
    "    # Set Size\n",
    "    plt.legend(loc=(0.75, 0.85),fontsize=12, frameon=True, edgecolor=\"white\")\n",
    "    plt.rcParams[\"figure.figsize\"] = (10,7)\n",
    "    \n",
    "    # Save figure\n",
    "    plt.savefig(\"./commit/graph/\"+lang+\"_commit.pdf\", facecolor='white', transparent=False)\n",
    "    plt.savefig(\"./commit/graph/\"+lang+\"_commit.png\", facecolor='white', transparent=False)\n",
    "    #plt.show()\n",
    "    plt.clf()\n",
    "    \n",
    "#plot_commits(\"JavaScript\")"
   ]
  },
  {
   "cell_type": "code",
   "execution_count": 69,
   "metadata": {},
   "outputs": [
    {
     "data": {
      "text/plain": [
       "<Figure size 720x504 with 0 Axes>"
      ]
     },
     "metadata": {},
     "output_type": "display_data"
    },
    {
     "data": {
      "text/plain": [
       "<Figure size 720x504 with 0 Axes>"
      ]
     },
     "metadata": {},
     "output_type": "display_data"
    },
    {
     "data": {
      "text/plain": [
       "<Figure size 720x504 with 0 Axes>"
      ]
     },
     "metadata": {},
     "output_type": "display_data"
    },
    {
     "data": {
      "text/plain": [
       "<Figure size 720x504 with 0 Axes>"
      ]
     },
     "metadata": {},
     "output_type": "display_data"
    },
    {
     "data": {
      "text/plain": [
       "<Figure size 720x504 with 0 Axes>"
      ]
     },
     "metadata": {},
     "output_type": "display_data"
    },
    {
     "data": {
      "text/plain": [
       "<Figure size 720x504 with 0 Axes>"
      ]
     },
     "metadata": {},
     "output_type": "display_data"
    },
    {
     "data": {
      "text/plain": [
       "<Figure size 720x504 with 0 Axes>"
      ]
     },
     "metadata": {},
     "output_type": "display_data"
    },
    {
     "data": {
      "text/plain": [
       "<Figure size 720x504 with 0 Axes>"
      ]
     },
     "metadata": {},
     "output_type": "display_data"
    },
    {
     "data": {
      "text/plain": [
       "<Figure size 720x504 with 0 Axes>"
      ]
     },
     "metadata": {},
     "output_type": "display_data"
    },
    {
     "data": {
      "text/plain": [
       "<Figure size 720x504 with 0 Axes>"
      ]
     },
     "metadata": {},
     "output_type": "display_data"
    },
    {
     "data": {
      "text/plain": [
       "<Figure size 720x504 with 0 Axes>"
      ]
     },
     "metadata": {},
     "output_type": "display_data"
    },
    {
     "data": {
      "text/plain": [
       "<Figure size 720x504 with 0 Axes>"
      ]
     },
     "metadata": {},
     "output_type": "display_data"
    },
    {
     "data": {
      "text/plain": [
       "<Figure size 720x504 with 0 Axes>"
      ]
     },
     "metadata": {},
     "output_type": "display_data"
    },
    {
     "data": {
      "text/plain": [
       "<Figure size 720x504 with 0 Axes>"
      ]
     },
     "metadata": {},
     "output_type": "display_data"
    },
    {
     "data": {
      "text/plain": [
       "<Figure size 720x504 with 0 Axes>"
      ]
     },
     "metadata": {},
     "output_type": "display_data"
    },
    {
     "data": {
      "text/plain": [
       "<Figure size 720x504 with 0 Axes>"
      ]
     },
     "metadata": {},
     "output_type": "display_data"
    }
   ],
   "source": [
    "langs = [\"JavaScript\", \"Python\", \"Java\", \"Go\", \"Ruby\", \"C++\", \"TypeScript\", \n",
    "          \"PHP\", \"C#\", \"C\", \"HTML\", \"CSS\", \"Jupyter\", \"Shell\", \"Objective-C\", \"All\"]\n",
    "for lang in langs:\n",
    "    plot_commits(lang)"
   ]
  },
  {
   "cell_type": "markdown",
   "metadata": {},
   "source": [
    "## 3. Plot Projects\n",
    "Input: '/data2/zihe/data/OSS-census/proj_by_win/full.csv' (copied to './project/')<br>\n",
    "Output: All active project count by window: './project/'"
   ]
  },
  {
   "cell_type": "code",
   "execution_count": 98,
   "metadata": {},
   "outputs": [],
   "source": [
    "def proj_count(lang):\n",
    "    dat = pd.read_csv('./project/data/full.csv', error_bad_lines=False, warn_bad_lines=False, index_col=False)\n",
    "    max_win = 45\n",
    "    dat = dat[dat['win']<=max_win]\n",
    "\n",
    "    # Plot information\n",
    "    fig,ax = plt.subplots()\n",
    "    ax.set_title(\"Active Public Projects in \" + r\"$\\bf{\" + lang + \"}$\" +\" Ecosystem\", fontsize=18)\n",
    "    ax.set_xlabel('Time (quarter)', fontsize=16)\n",
    "    ax.set_ylabel('Active Public Project Numbers (thousand)', fontsize=16, labelpad=5.0)\n",
    "    \n",
    "    # Change window to date\n",
    "    x = dat[\"win\"]\n",
    "    new_x = []\n",
    "    for win in x:\n",
    "        time = 3 * win\n",
    "        year = 2008 + math.floor(time/12)\n",
    "        month = time - math.floor(time/12)*12\n",
    "        if not month:\n",
    "            month = 12\n",
    "        if month == 3:\n",
    "            new_x.append(\"{}\".format(year))\n",
    "        else:\n",
    "            new_x.append(\"{}-{}\".format(year,month))\n",
    "    x = new_x\n",
    "    \n",
    "    # Plot left y axis\n",
    "    ax.bar(new_x, dat[lang+\"_all\"] / 1000, label = \"All\", color = \"#f29d4b\")\n",
    "    ax.bar(new_x, dat[lang+\"_fem\"] / 1000, label = \"Has female\", color = \"#de2d26\")\n",
    "    \n",
    "    # Plot ratio line for female in all commits\n",
    "    ax2=ax.twinx()\n",
    "    ratio = dat[lang+\"_fem\"] / dat[lang+\"_all\"]\n",
    "    for win in dat[\"win\"]:\n",
    "        win = win - 1\n",
    "        if dat[lang+\"_all\"][win] <= 5:\n",
    "            ratio[win] = 0\n",
    "    ax2.plot(new_x, ratio,color=\"darkblue\",marker=\"o\", markerfacecolor='white', markeredgecolor='darkblue', markeredgewidth=1, label=\"female ratio\")\n",
    "    ax2.set_ylabel('Female Commit Ratio = F/(F+M)', fontsize=16, labelpad=25.0).set_rotation(270)\n",
    "    \n",
    "    # Set x ticks\n",
    "    ax.set_xticks(np.arange(min(dat[\"win\"])-1, max(dat[\"win\"])+1, 4))\n",
    "    ax2.set_xticks(np.arange(min(dat[\"win\"])-1, max(dat[\"win\"])+1, 4))\n",
    "    \n",
    "    # Set y ticks\n",
    "    upper = math.ceil(max(dat[lang+\"_all\"])/50000)*50\n",
    "    ax.set_yticks(np.arange(0, upper *6/5, upper/5))\n",
    "    ax.set_ylim(ymin = 0, ymax = upper)\n",
    "    ax2.set_yticks(np.arange(0, 0.36, 0.05))\n",
    "    ax2.set_ylim(ymin = 0, ymax = 0.35)\n",
    "\n",
    "    # No Frame\n",
    "    ax.spines['top'].set_visible(False)\n",
    "    ax2.spines['top'].set_visible(False)\n",
    "    ax.spines['bottom'].set_visible(False)\n",
    "    ax2.spines['bottom'].set_visible(False)\n",
    "    ax.spines['left'].set_visible(False)\n",
    "    ax2.spines['left'].set_visible(False)\n",
    "    ax.spines['right'].set_visible(False)\n",
    "    ax2.spines['right'].set_visible(False)\n",
    "    \n",
    "    # Set Size\n",
    "    plt.legend(loc=\"upper left\",fontsize=12, frameon = False)\n",
    "    plt.rcParams[\"figure.figsize\"] = (10,7)\n",
    "    \n",
    "    plt.savefig(\"./project/graph/\"+lang+\"_project.pdf\", facecolor='white', transparent=False)\n",
    "    plt.savefig(\"./project/graph/\"+lang+\"_project.png\", facecolor='white', transparent=False)\n",
    "    #plt.show()\n",
    "    plt.clf()"
   ]
  },
  {
   "cell_type": "code",
   "execution_count": 99,
   "metadata": {},
   "outputs": [
    {
     "data": {
      "text/plain": [
       "<Figure size 720x504 with 0 Axes>"
      ]
     },
     "metadata": {},
     "output_type": "display_data"
    },
    {
     "data": {
      "text/plain": [
       "<Figure size 720x504 with 0 Axes>"
      ]
     },
     "metadata": {},
     "output_type": "display_data"
    },
    {
     "data": {
      "text/plain": [
       "<Figure size 720x504 with 0 Axes>"
      ]
     },
     "metadata": {},
     "output_type": "display_data"
    },
    {
     "data": {
      "text/plain": [
       "<Figure size 720x504 with 0 Axes>"
      ]
     },
     "metadata": {},
     "output_type": "display_data"
    },
    {
     "data": {
      "text/plain": [
       "<Figure size 720x504 with 0 Axes>"
      ]
     },
     "metadata": {},
     "output_type": "display_data"
    },
    {
     "data": {
      "text/plain": [
       "<Figure size 720x504 with 0 Axes>"
      ]
     },
     "metadata": {},
     "output_type": "display_data"
    },
    {
     "data": {
      "text/plain": [
       "<Figure size 720x504 with 0 Axes>"
      ]
     },
     "metadata": {},
     "output_type": "display_data"
    },
    {
     "data": {
      "text/plain": [
       "<Figure size 720x504 with 0 Axes>"
      ]
     },
     "metadata": {},
     "output_type": "display_data"
    },
    {
     "data": {
      "text/plain": [
       "<Figure size 720x504 with 0 Axes>"
      ]
     },
     "metadata": {},
     "output_type": "display_data"
    },
    {
     "data": {
      "text/plain": [
       "<Figure size 720x504 with 0 Axes>"
      ]
     },
     "metadata": {},
     "output_type": "display_data"
    },
    {
     "data": {
      "text/plain": [
       "<Figure size 720x504 with 0 Axes>"
      ]
     },
     "metadata": {},
     "output_type": "display_data"
    },
    {
     "data": {
      "text/plain": [
       "<Figure size 720x504 with 0 Axes>"
      ]
     },
     "metadata": {},
     "output_type": "display_data"
    },
    {
     "data": {
      "text/plain": [
       "<Figure size 720x504 with 0 Axes>"
      ]
     },
     "metadata": {},
     "output_type": "display_data"
    },
    {
     "data": {
      "text/plain": [
       "<Figure size 720x504 with 0 Axes>"
      ]
     },
     "metadata": {},
     "output_type": "display_data"
    },
    {
     "data": {
      "text/plain": [
       "<Figure size 720x504 with 0 Axes>"
      ]
     },
     "metadata": {},
     "output_type": "display_data"
    },
    {
     "data": {
      "text/plain": [
       "<Figure size 720x504 with 0 Axes>"
      ]
     },
     "metadata": {},
     "output_type": "display_data"
    }
   ],
   "source": [
    "langs = [\"JavaScript\", \"Python\", \"Java\", \"Go\", \"Ruby\", \"C++\", \"TypeScript\", \n",
    "          \"PHP\", \"C#\", \"C\", \"HTML\", \"CSS\", \"Jupyter\", \"Shell\", \"Objective-C\", \"All\"]\n",
    "for lang in langs:\n",
    "    proj_count(lang)"
   ]
  },
  {
   "cell_type": "code",
   "execution_count": 101,
   "metadata": {},
   "outputs": [
    {
     "data": {
      "text/plain": [
       "<Figure size 720x504 with 0 Axes>"
      ]
     },
     "metadata": {},
     "output_type": "display_data"
    }
   ],
   "source": [
    "dat = pd.read_csv('./project/data/proj_create_win.csv', error_bad_lines=False, warn_bad_lines=False, index_col=False)\n",
    "max_win = 45\n",
    "dat = dat[dat['win']<=max_win]\n",
    "dat = dat[dat['win']>0]\n",
    "\n",
    "# Plot information\n",
    "fig,ax = plt.subplots()\n",
    "ax.set_title(\"Number of Newly Created Projects on GHTorrent\", fontsize=18)\n",
    "ax.set_xlabel('Time (quarter)', fontsize=16)\n",
    "ax.set_ylabel('Number of Projects', fontsize=16, labelpad=5.0)\n",
    "\n",
    "# No Frame\n",
    "ax.spines['top'].set_visible(False)\n",
    "ax.spines['bottom'].set_visible(False)\n",
    "ax.spines['left'].set_visible(False)\n",
    "ax.spines['right'].set_visible(False)\n",
    "\n",
    "# Change window to date\n",
    "x = dat[\"win\"]\n",
    "new_x = []\n",
    "for win in x:\n",
    "    time = 3 * win\n",
    "    year = 2008 + math.floor(time/12)\n",
    "    month = time - math.floor(time/12)*12\n",
    "    if not month:\n",
    "        month = 12\n",
    "    if month == 3:\n",
    "        new_x.append(\"{}\".format(year))\n",
    "    else:\n",
    "        new_x.append(\"{}-{}\".format(year,month))\n",
    "x = new_x\n",
    "\n",
    "y = dat[\"new_all\"]\n",
    "ax.bar(new_x, y, label=\"All newly created\", color=\"#f29d4b\")\n",
    "\n",
    "# Set Size\n",
    "plt.legend(loc=\"upper left\",fontsize=12, frameon = False)\n",
    "plt.rcParams[\"figure.figsize\"] = (10,7)\n",
    "\n",
    "# Set ticks\n",
    "plt.xticks(np.arange(min(dat[\"win\"])-1, max(dat[\"win\"])+1, 4))\n",
    "\n",
    "# Original Graph\n",
    "plt.savefig(\"./project/graph/All_New_Created_Project_Orig.pdf\", facecolor='white', transparent=False)\n",
    "plt.savefig(\"./project/graph/All_New_Created_Project_Orig.png\", facecolor='white', transparent=False)\n",
    "\n",
    "# Log Scaled Graph\n",
    "#plt.yscale('log')\n",
    "#plt.savefig(\"./project/graph/All_New_Created_Project_Log.pdf\", facecolor='white', transparent=False)\n",
    "#plt.savefig(\"./project/graph/All_New_Created_Project_Log.png\", facecolor='white', transparent=False)\n",
    "#plt.show()\n",
    "plt.clf()"
   ]
  },
  {
   "cell_type": "markdown",
   "metadata": {},
   "source": [
    "## 4. Plot Ties\n",
    "Input: '/data2/zihe/data/network/gender_homophily/*.csv' (copied to './tie/data')<br>\n",
    "Output: Tie distribution count by window: './tie/graph'"
   ]
  },
  {
   "cell_type": "code",
   "execution_count": 198,
   "metadata": {},
   "outputs": [],
   "source": [
    "def plot_ties(lang):\n",
    "    \n",
    "    # Import data\n",
    "    dat = pd.read_csv('./tie/data/'+lang+'.csv', error_bad_lines=False, warn_bad_lines=False, index_col=False)\n",
    "    max_win = 45\n",
    "    dat = dat[dat['win']<=max_win]\n",
    "    \n",
    "    # Change window to date\n",
    "    wins = dat[\"win\"]\n",
    "    new_wins = []\n",
    "    for win in wins:\n",
    "        time = 3 * win\n",
    "        year = 2008 + math.floor(time/12)\n",
    "        month = time - math.floor(time/12)*12\n",
    "        if not month:\n",
    "            month = 12\n",
    "        if month == 3:\n",
    "            new_wins.append(\"{}\".format(year))\n",
    "        else:\n",
    "            new_wins.append(\"{}-{}\".format(year,month))\n",
    "    wins = new_wins\n",
    "    \n",
    "    # Plot information\n",
    "    fig,ax = plt.subplots()\n",
    "    title = lang\n",
    "    if lang == \"C#\":\n",
    "        title = \"C\\#\"\n",
    "    ax.set_title(\"Gender-Identifiable Tie Count in \"+ r\"$\\bf{\" + title + \"}$\" +\" Public Projects\", fontsize=18)\n",
    "    ax.set_xlabel('Time (quarter)', fontsize=16)\n",
    "    ax.set_ylabel('Female-Related Tie Percentage', fontsize=16, labelpad=5.0)\n",
    "    \n",
    "    # Plot tie number bar\n",
    "    total = dat[\"m_m\"].replace(0, 1) + dat[\"f_m\"] + dat[\"f_f\"]\n",
    "    m_m = (dat[\"m_m\"] + dat[\"f_m\"] + dat[\"f_f\"]) / total * 100\n",
    "    f_m = (dat[\"f_m\"] + dat[\"f_f\"]) / total * 100\n",
    "    f_f = dat[\"f_f\"] / total * 100\n",
    "    #ax.bar(wins, m_m , label = \"male-male\", color = \"steelblue\")\n",
    "    ax.bar(wins, f_m, label = \"female-male\", color = \"#f29d4b\")\n",
    "    ax.bar(wins, f_f, label = \"female-female\", color = \"#de2d26\")\n",
    "    plt.legend(loc=(0.02, 0.85),fontsize=12, frameon=False)\n",
    "    \n",
    "    # Plot ratio \n",
    "    ax2=ax.twinx()\n",
    "    f_m = f_m.replace(0, 1)\n",
    "    ratio = f_f / f_m\n",
    "    ax2.plot(wins, ratio,color=\"darkblue\",marker=\"o\", markerfacecolor='white', markeredgecolor='darkblue', markeredgewidth=3, label=\"Among all\")\n",
    "    ax2.set_ylabel('Female Ratio = f-f / (f-f + f-m)', fontsize=16, labelpad=25.0).set_rotation(270)\n",
    "    \n",
    "     # Set x ticks\n",
    "    ax.set_xticks(np.arange(min(dat[\"win\"])-1, max(dat[\"win\"])+1, 4))\n",
    "    ax2.set_xticks(np.arange(min(dat[\"win\"])-1, max(dat[\"win\"])+1, 4))\n",
    "    \n",
    "    # Set y ticks\n",
    "    upper = math.ceil(max(f_m)/30)*30\n",
    "    ax.set_yticks(np.arange(0, upper *7/6, upper/6))\n",
    "    ax.set_ylim(ymin = 0, ymax = upper)\n",
    "    ax2.set_yticks(np.arange(0, 0.31, 0.03))\n",
    "    ax2.set_ylim(ymin = 0, ymax = 0.30)\n",
    "    \n",
    "    # Set Size\n",
    "    plt.legend(loc=(0.6, 0.85),fontsize=12, frameon=False)\n",
    "    plt.rcParams[\"figure.figsize\"] = (10,7)\n",
    "    #plt.figtext(0.1, 0.02,\"* percentage calculated out of total number of male-male, female-male, female-female ties\")\n",
    "    \n",
    "    # No Frame\n",
    "    ax.spines['top'].set_visible(False)\n",
    "    ax2.spines['top'].set_visible(False)\n",
    "    ax.spines['bottom'].set_visible(False)\n",
    "    ax2.spines['bottom'].set_visible(False)\n",
    "    ax.spines['left'].set_visible(False)\n",
    "    ax2.spines['left'].set_visible(False)\n",
    "    ax.spines['right'].set_visible(False)\n",
    "    ax2.spines['right'].set_visible(False)\n",
    "    \n",
    "    plt.savefig(\"./tie/graph/\"+lang+\"_tie.pdf\", facecolor='white', transparent=False)\n",
    "    plt.savefig(\"./tie/graph/\"+lang+\"_tie.png\", facecolor='white', transparent=False)\n",
    "    #plt.show()\n",
    "    plt.clf()\n"
   ]
  },
  {
   "cell_type": "code",
   "execution_count": 199,
   "metadata": {},
   "outputs": [
    {
     "data": {
      "text/plain": [
       "<Figure size 720x504 with 0 Axes>"
      ]
     },
     "metadata": {},
     "output_type": "display_data"
    },
    {
     "data": {
      "text/plain": [
       "<Figure size 720x504 with 0 Axes>"
      ]
     },
     "metadata": {},
     "output_type": "display_data"
    },
    {
     "data": {
      "text/plain": [
       "<Figure size 720x504 with 0 Axes>"
      ]
     },
     "metadata": {},
     "output_type": "display_data"
    },
    {
     "data": {
      "text/plain": [
       "<Figure size 720x504 with 0 Axes>"
      ]
     },
     "metadata": {},
     "output_type": "display_data"
    },
    {
     "data": {
      "text/plain": [
       "<Figure size 720x504 with 0 Axes>"
      ]
     },
     "metadata": {},
     "output_type": "display_data"
    },
    {
     "data": {
      "text/plain": [
       "<Figure size 720x504 with 0 Axes>"
      ]
     },
     "metadata": {},
     "output_type": "display_data"
    },
    {
     "data": {
      "text/plain": [
       "<Figure size 720x504 with 0 Axes>"
      ]
     },
     "metadata": {},
     "output_type": "display_data"
    },
    {
     "data": {
      "text/plain": [
       "<Figure size 720x504 with 0 Axes>"
      ]
     },
     "metadata": {},
     "output_type": "display_data"
    },
    {
     "data": {
      "text/plain": [
       "<Figure size 720x504 with 0 Axes>"
      ]
     },
     "metadata": {},
     "output_type": "display_data"
    },
    {
     "data": {
      "text/plain": [
       "<Figure size 720x504 with 0 Axes>"
      ]
     },
     "metadata": {},
     "output_type": "display_data"
    },
    {
     "data": {
      "text/plain": [
       "<Figure size 720x504 with 0 Axes>"
      ]
     },
     "metadata": {},
     "output_type": "display_data"
    },
    {
     "data": {
      "text/plain": [
       "<Figure size 720x504 with 0 Axes>"
      ]
     },
     "metadata": {},
     "output_type": "display_data"
    },
    {
     "data": {
      "text/plain": [
       "<Figure size 720x504 with 0 Axes>"
      ]
     },
     "metadata": {},
     "output_type": "display_data"
    },
    {
     "data": {
      "text/plain": [
       "<Figure size 720x504 with 0 Axes>"
      ]
     },
     "metadata": {},
     "output_type": "display_data"
    },
    {
     "data": {
      "text/plain": [
       "<Figure size 720x504 with 0 Axes>"
      ]
     },
     "metadata": {},
     "output_type": "display_data"
    }
   ],
   "source": [
    "langs = [\"JavaScript\", \"Python\", \"Java\", \"Go\", \"Ruby\", \"C++\", \"TypeScript\", \n",
    "          \"PHP\", \"C#\", \"C\", \"HTML\", \"CSS\", \"Jupyter\", \"Shell\", \"Objective-C\"]\n",
    "for lang in langs:\n",
    "    plot_ties(lang)"
   ]
  },
  {
   "cell_type": "markdown",
   "metadata": {},
   "source": [
    "## 5. Plot Names\n",
    "Input: '/data2/zihe/data/OSS-census/top_names.csv' (copied to './tie/data')<br>\n",
    "Output: Name distribution count by window: './name'"
   ]
  },
  {
   "cell_type": "code",
   "execution_count": 16,
   "metadata": {},
   "outputs": [
    {
     "data": {
      "text/plain": [
       "<Figure size 720x504 with 0 Axes>"
      ]
     },
     "metadata": {},
     "output_type": "display_data"
    },
    {
     "data": {
      "text/plain": [
       "<Figure size 720x504 with 0 Axes>"
      ]
     },
     "metadata": {},
     "output_type": "display_data"
    }
   ],
   "source": [
    "def plot_name(gender):\n",
    "    dat = pd.read_csv('./name/'+gender+'.csv', error_bad_lines=False, warn_bad_lines=False, index_col=False)\n",
    "\n",
    "    name = []\n",
    "    freq = []\n",
    "\n",
    "    for i in range(0, 16):\n",
    "        name.append(dat.loc[i,\"name\"])\n",
    "        freq.append(dat.loc[i,\"count\"])\n",
    "\n",
    "    fig,ax = plt.subplots()\n",
    "    ax.bar(name, freq, color = \"#f29d4b\")\n",
    "\n",
    "    ax.set_title(\"15 Most Common \" + r\"$\\bf{\" + gender + \"}$\" +\" Developer Names in GHTorrent\", fontsize=18)\n",
    "    ax.set_xlabel('Name', fontsize=16)\n",
    "    ax.set_ylabel('Number of Appearance', fontsize=16, labelpad=5.0)\n",
    "\n",
    "    plt.rcParams[\"figure.figsize\"] = (10,7)\n",
    "    plt.xticks(rotation=30)\n",
    "    ran = 800 if gender == \"Female\" else 8000\n",
    "    ax.set_yticks(np.arange(0, 10 * ran + 1, ran))\n",
    "    \n",
    "    # No Frame\n",
    "    ax.spines['top'].set_visible(False)\n",
    "    ax.spines['bottom'].set_visible(False)\n",
    "    ax.spines['left'].set_visible(False)\n",
    "    ax.spines['right'].set_visible(False)\n",
    "    \n",
    "    plt.savefig(\"./name/\"+gender+\"_name.png\", facecolor='white', transparent=False)\n",
    "    plt.savefig(\"./name/\"+gender+\"_name.pdf\", facecolor='white', transparent=False)\n",
    "    #plt.show()\n",
    "    plt.clf()\n",
    "    \n",
    "plot_name(\"Female\")\n",
    "plot_name(\"Male\")"
   ]
  },
  {
   "cell_type": "code",
   "execution_count": null,
   "metadata": {},
   "outputs": [],
   "source": []
  }
 ],
 "metadata": {
  "kernelspec": {
   "display_name": "Python 3",
   "language": "python",
   "name": "python3"
  },
  "language_info": {
   "codemirror_mode": {
    "name": "ipython",
    "version": 3
   },
   "file_extension": ".py",
   "mimetype": "text/x-python",
   "name": "python",
   "nbconvert_exporter": "python",
   "pygments_lexer": "ipython3",
   "version": "3.8.8"
  }
 },
 "nbformat": 4,
 "nbformat_minor": 4
}
